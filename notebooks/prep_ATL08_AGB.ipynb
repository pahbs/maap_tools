{
 "cells": [
  {
   "cell_type": "markdown",
   "id": "graphic-interim",
   "metadata": {},
   "source": [
    "# Prepare data frame with AGB from ATL08 height in boreal\n",
    "### boreal ATL08 AGB\n",
    "Paul Montesano, March 2023  \n",
    "#### Workspace used: `mas.maap-project.org/root/maap-workspaces/jupyterlab3/r:v3.1.3`\n",
    "#### Memory: `64Gi`  \n",
    "#### Packages needed installed on top of base R \n",
    "`conda install -c conda-forge r-rnaturalearth r-rnaturalearthdata r-mapproj r-rgeos r-viridis r-wesanderson r-patchwork r-aws.s3 r-feather r-rockchalk`"
   ]
  },
  {
   "cell_type": "code",
   "execution_count": 1,
   "id": "shaped-field",
   "metadata": {},
   "outputs": [
    {
     "name": "stderr",
     "output_type": "stream",
     "text": [
      "Loading required package: sp\n",
      "\n",
      "Please note that rgdal will be retired by the end of 2023,\n",
      "plan transition to sf/stars/terra functions using GDAL and PROJ\n",
      "at your earliest convenience.\n",
      "\n",
      "rgdal: version: 1.5-32, (SVN revision 1176)\n",
      "Geospatial Data Abstraction Library extensions to R successfully loaded\n",
      "Loaded GDAL runtime: GDAL 3.6.2, released 2023/01/02\n",
      "Path to GDAL shared files: /opt/conda/share/gdal\n",
      " GDAL does not use iconv for recoding strings.\n",
      "GDAL binary built with GEOS: TRUE \n",
      "Loaded PROJ runtime: Rel. 9.1.0, September 1st, 2022, [PJ_VERSION: 910]\n",
      "Path to PROJ shared files: /projects/.local/share/proj:/opt/conda/share/proj\n",
      "PROJ CDN enabled: TRUE\n",
      "Linking to sp version:1.5-1\n",
      "To mute warnings of possible GDAL/OSR exportToProj4() degradation,\n",
      "use options(\"rgdal_show_exportToProj4_warnings\"=\"none\") before loading sp or rgdal.\n",
      "\n",
      "── \u001b[1mAttaching core tidyverse packages\u001b[22m ──────────────────────── tidyverse 2.0.0 ──\n",
      "\u001b[32m✔\u001b[39m \u001b[34mdplyr    \u001b[39m 1.1.3     \u001b[32m✔\u001b[39m \u001b[34mreadr    \u001b[39m 2.1.4\n",
      "\u001b[32m✔\u001b[39m \u001b[34mforcats  \u001b[39m 1.0.0     \u001b[32m✔\u001b[39m \u001b[34mstringr  \u001b[39m 1.5.0\n",
      "\u001b[32m✔\u001b[39m \u001b[34mggplot2  \u001b[39m 3.4.4     \u001b[32m✔\u001b[39m \u001b[34mtibble   \u001b[39m 3.2.1\n",
      "\u001b[32m✔\u001b[39m \u001b[34mlubridate\u001b[39m 1.9.3     \u001b[32m✔\u001b[39m \u001b[34mtidyr    \u001b[39m 1.3.0\n",
      "\u001b[32m✔\u001b[39m \u001b[34mpurrr    \u001b[39m 1.0.2     \n",
      "── \u001b[1mConflicts\u001b[22m ────────────────────────────────────────── tidyverse_conflicts() ──\n",
      "\u001b[31m✖\u001b[39m \u001b[34mtidyr\u001b[39m::\u001b[32mextract()\u001b[39m masks \u001b[34mraster\u001b[39m::extract()\n",
      "\u001b[31m✖\u001b[39m \u001b[34mdplyr\u001b[39m::\u001b[32mfilter()\u001b[39m  masks \u001b[34mstats\u001b[39m::filter()\n",
      "\u001b[31m✖\u001b[39m \u001b[34mdplyr\u001b[39m::\u001b[32mlag()\u001b[39m     masks \u001b[34mstats\u001b[39m::lag()\n",
      "\u001b[31m✖\u001b[39m \u001b[34mdplyr\u001b[39m::\u001b[32mselect()\u001b[39m  masks \u001b[34mraster\u001b[39m::select()\n",
      "\u001b[36mℹ\u001b[39m Use the conflicted package (\u001b[3m\u001b[34m<http://conflicted.r-lib.org/>\u001b[39m\u001b[23m) to force all conflicts to become errors\n",
      "\n",
      "Attaching package: ‘gridExtra’\n",
      "\n",
      "\n",
      "The following object is masked from ‘package:dplyr’:\n",
      "\n",
      "    combine\n",
      "\n",
      "\n",
      "\n",
      "Attaching package: ‘data.table’\n",
      "\n",
      "\n",
      "The following objects are masked from ‘package:lubridate’:\n",
      "\n",
      "    hour, isoweek, mday, minute, month, quarter, second, wday, week,\n",
      "    yday, year\n",
      "\n",
      "\n",
      "The following objects are masked from ‘package:dplyr’:\n",
      "\n",
      "    between, first, last\n",
      "\n",
      "\n",
      "The following object is masked from ‘package:purrr’:\n",
      "\n",
      "    transpose\n",
      "\n",
      "\n",
      "The following object is masked from ‘package:raster’:\n",
      "\n",
      "    shift\n",
      "\n",
      "\n",
      "Linking to GEOS 3.11.1, GDAL 3.6.2, PROJ 9.1.0; sf_use_s2() is TRUE\n",
      "\n",
      "rgeos version: 0.6-2, (SVN revision 693)\n",
      " GEOS runtime version: 3.11.1-CAPI-1.17.1 \n",
      " Please note that rgeos will be retired during 2023,\n",
      "plan transition to sf functions using GEOS at your earliest convenience.\n",
      " GEOS using OverlayNG\n",
      " Linking to sp version: 1.6-0 \n",
      " Polygon checking: TRUE \n",
      "\n",
      "\n",
      "\n",
      "Attaching package: ‘rgeos’\n",
      "\n",
      "\n",
      "The following object is masked from ‘package:dplyr’:\n",
      "\n",
      "    symdiff\n",
      "\n",
      "\n",
      "Loading required package: maps\n",
      "\n",
      "\n",
      "Attaching package: ‘maps’\n",
      "\n",
      "\n",
      "The following object is masked from ‘package:purrr’:\n",
      "\n",
      "    map\n",
      "\n",
      "\n",
      "Loading required package: viridisLite\n",
      "\n",
      "\n",
      "Attaching package: ‘viridis’\n",
      "\n",
      "\n",
      "The following object is masked from ‘package:maps’:\n",
      "\n",
      "    unemp\n",
      "\n",
      "\n",
      "\n",
      "Attaching package: ‘scales’\n",
      "\n",
      "\n",
      "The following object is masked from ‘package:viridis’:\n",
      "\n",
      "    viridis_pal\n",
      "\n",
      "\n",
      "The following object is masked from ‘package:purrr’:\n",
      "\n",
      "    discard\n",
      "\n",
      "\n",
      "The following object is masked from ‘package:readr’:\n",
      "\n",
      "    col_factor\n",
      "\n",
      "\n",
      "\n",
      "Attaching package: ‘patchwork’\n",
      "\n",
      "\n",
      "The following object is masked from ‘package:raster’:\n",
      "\n",
      "    area\n",
      "\n",
      "\n",
      "Support for Spatial objects (`sp`) will be deprecated in {rnaturalearth} and will be removed in a future release of the package. Please use `sf` objects with {rnaturalearth}. For example: `ne_download(returnclass = 'sf')`\n",
      "\n",
      "\n",
      "Attaching package: ‘rnaturalearthdata’\n",
      "\n",
      "\n",
      "The following object is masked from ‘package:rnaturalearth’:\n",
      "\n",
      "    countries110\n",
      "\n",
      "\n",
      "\n",
      "Attaching package: ‘rockchalk’\n",
      "\n",
      "\n",
      "The following object is masked from ‘package:dplyr’:\n",
      "\n",
      "    summarize\n",
      "\n",
      "\n"
     ]
    }
   ],
   "source": [
    "library(aws.s3)\n",
    "library(rgdal)\n",
    "library(raster)\n",
    "library(tidyverse)\n",
    "library(dplyr)\n",
    "library(grid)\n",
    "library(gridExtra)\n",
    "library(RColorBrewer)\n",
    "library(data.table)\n",
    "\n",
    "library(fs)\n",
    "library(sf)\n",
    "\n",
    "library(rgeos)\n",
    "library(mapproj)\n",
    "#library(rgee)\n",
    "library(viridis)\n",
    "library(wesanderson)\n",
    "library(scales)\n",
    "library(tools)\n",
    "library(patchwork)\n",
    "\n",
    "library(rnaturalearth)\n",
    "library(rnaturalearthdata)\n",
    "library(feather)\n",
    "library(tools)\n",
    "library(rockchalk)"
   ]
  },
  {
   "cell_type": "code",
   "execution_count": 2,
   "id": "6a31ad00-29bd-446d-8755-aba9237e2dc2",
   "metadata": {
    "tags": []
   },
   "outputs": [],
   "source": [
    "OUTDIR = '/projects/my-public-bucket/boreal_ATL08_AGB'"
   ]
  },
  {
   "cell_type": "code",
   "execution_count": 3,
   "id": "attended-cooper",
   "metadata": {},
   "outputs": [],
   "source": [
    "ATL08_tindex_fn = 's3://maap-ops-workspace/shared/lduncanson/DPS_tile_lists/ATL08_tindex_master.csv'"
   ]
  },
  {
   "cell_type": "markdown",
   "id": "65240487-1825-4dfd-a9ef-168867ef784e",
   "metadata": {},
   "source": [
    "## Set output figure dir."
   ]
  },
  {
   "cell_type": "code",
   "execution_count": 4,
   "id": "e5680832-8387-4b23-a265-47c255a5aec5",
   "metadata": {
    "tags": []
   },
   "outputs": [],
   "source": [
    "OUT_FIGURE_DIR = '/projects/my-public-bucket/boreal_polar_map/paper_figs'"
   ]
  },
  {
   "cell_type": "markdown",
   "id": "7ab11be6-24da-4b49-8e94-c45c7babee1d",
   "metadata": {
    "tags": []
   },
   "source": [
    "### AGB Calc Function"
   ]
  },
  {
   "cell_type": "code",
   "execution_count": 5,
   "id": "e09aaa70-12cb-418a-b7a6-5202b5091370",
   "metadata": {
    "tags": []
   },
   "outputs": [],
   "source": [
    "GEDI2AT08AGB_v2 <- function(rds_models, models_id, in_data, offset=100, \n",
    "                            COLS_LIST= c(\"lon\",\"lat\",\"RH_25\",\"RH_50\",\"RH_60\",\"RH_70\",\"RH_75\",\"RH_80\",\"RH_90\",\"RH_95\",\"RH_98\"), \n",
    "                            EXCLUDE_LC_VALUE_LIST = c(0, 60, 80, 200, 50, 70), # Updated with copernicus LC values for which we want to assign AGB values of 0 \n",
    "                            DO_MASK=FALSE, \n",
    "                            RESAMP_COVAR_MAT=TRUE, \n",
    "                            RESAMP_ITER=50\n",
    "                           ){\n",
    "    #'''\n",
    "    # Function to compute mean AGB and SE from ICESat-2 ATL08 observations of vegetation height.\n",
    "    # Uses the GEDI-developed allometric equations (2 parameters of RH values)\n",
    "    #\n",
    "    # This version works the same as the original function GEDI2AT08AGB() used in Phase 2 work, with a few minor updates to usability\n",
    "    # v2 updates:\n",
    "    # Returns: a 3 col table (AGB model id, AGB, AGB SE)\n",
    "    # Added args for added flexiblity: \n",
    "    #       COLS_LIST, EXCLUDE_LC_VALUE_LIST\n",
    "    #       RESAMP_COVAR_MAT --> boolean to handle resampling covar matrix\n",
    "    #'\n",
    "    \n",
    "    # rds_models\n",
    "    #names(rds_models)<-models_id\n",
    "\n",
    "    #if(DO_MASK){\n",
    "    #    in_data = in_data %>% dplyr::filter(slopemask ==1 & ValidMask == 1)\n",
    "    #}\n",
    "    xtable_i<-na.omit(as.data.frame(in_data))\n",
    "    names(xtable_i)[1:length(COLS_LIST)]<-COLS_LIST  # PMM names(xtable_i)[1:11]<-COLS_LIST\n",
    "\n",
    "    # Adjust for offset in model fits (100)\n",
    "    # GEDI L4A team added offset to all the height metrics so they would never be negative)\n",
    "    #xtable_sqrt<-xtable_i[3:10]+offset\n",
    "    xtable_sqrt <- xtable_i %>% dplyr::select(contains(\"RH\")) + offset # PMM \n",
    "\n",
    "    # get unique ids\n",
    "    # apply models by id\n",
    "    xtable_sqrt$AGB<-NA\n",
    "    xtable_sqrt$SE<-NA\n",
    "    \n",
    "    # Assign model id based on landcover\n",
    "\n",
    "    # if using ground photon models: 1 = DBT trees (boreal-wide), 2=Evergreen needleleaf trees (boreal-wide), 12 = boreal-wide all PFT\n",
    "    # if using no ground photon models: 1 = DBT trees (boreal-wide), 3=Evergreen needleleaf trees (boreal-wide), 8 = boreal-wide all PFT\n",
    "\n",
    "    # for the seg_landcov: {0: \"water\", 1: \"evergreen needleleaf forest\", 2: \"evergreen broadleaf forest\", \\ 3: \"deciduous needleleaf forest\", 4: \"deciduous broadleaf forest\", \\ 5: \"mixed forest\", 6: \"closed shrublands\", 7: \"open shrublands\", \\ 8: \"woody savannas\", 9: \"savannas\", 10: \"grasslands\", 11: \"permanent wetlands\", \\ 12: \"croplands\", 13: \"urban-built\", 14: \"croplands-natural mosaic\", \\ 15: \"permanent snow-ice\", 16: \"barren\"})\n",
    "    \n",
    "    # for the seg_landcov update w v5 to Copernicus: \n",
    "    # {0: \"NA\", 111, 121: \"evergreen needleleaf forest\", 112, 122: \"evergreen broadleaf forest\", \\ \n",
    "    # 113, 123: \"deciduous needleleaf forest\", 114, 124: \"deciduous broadleaf forest\", \\ \n",
    "    # 115, 125: \"mixed forest\", 116, 126:\"closed forest unknown\", 20: \"shrublands\", 30: \"herbaceous vegetation\", \\ \n",
    "    # 100: \"moss and lichen\", 60: \"bare/sparse\", 80, 200: \"water\", 40: \"agriculture\", 50: \"urban-built\", 70: \"permanent snow-ice\"})\n",
    "\n",
    "    xtable_sqrt$model_id <- 'NA'\n",
    "    xtable_sqrt$model_id[xtable_i$seg_landcov==111] <- 'ENT_coarse_1.rds'#'m3'\n",
    "    xtable_sqrt$model_id[xtable_i$seg_landcov==121] <- 'ENT_coarse_1.rds'#'m3'\n",
    "    xtable_sqrt$model_id[xtable_i$seg_landcov==112] <- 'DBT_coarse_2.rds'#'m1'\n",
    "    xtable_sqrt$model_id[xtable_i$seg_landcov==122] <- 'DBT_coarse_2.rds'#'m1\n",
    "    xtable_sqrt$model_id[xtable_i$seg_landcov==113] <- 'ENT_coarse_1.rds'#'m3'\n",
    "    xtable_sqrt$model_id[xtable_i$seg_landcov==123] <- 'ENT_coarse_1.rds'#'m3'\n",
    "    xtable_sqrt$model_id[xtable_i$seg_landcov==114] <- 'DBT_coarse_2.rds'#'m1\n",
    "    xtable_sqrt$model_id[xtable_i$seg_landcov==124] <- 'DBT_coarse_2.rds'#'m1\n",
    "    xtable_sqrt$model_id[xtable_sqrt$model_id=='NA'] <- 'world_coarse_2.rds'#'m8\n",
    "    \n",
    "#     xtable_sqrt$model_id <- 'NA'\n",
    "#     xtable_sqrt$model_id[xtable_i$seg_landcov==111] <- 'm3'\n",
    "#     xtable_sqrt$model_id[xtable_i$seg_landcov==121] <- 'm3'\n",
    "#     xtable_sqrt$model_id[xtable_i$seg_landcov==112] <- 'm1'\n",
    "#     xtable_sqrt$model_id[xtable_i$seg_landcov==122] <- 'm1'\n",
    "#     xtable_sqrt$model_id[xtable_i$seg_landcov==113] <- 'm3'\n",
    "#     xtable_sqrt$model_id[xtable_i$seg_landcov==123] <- 'm3'\n",
    "#     xtable_sqrt$model_id[xtable_i$seg_landcov==114] <- 'm1'\n",
    "#     xtable_sqrt$model_id[xtable_i$seg_landcov==124] <- 'm1'\n",
    "#     xtable_sqrt$model_id[xtable_sqrt$model_id=='NA'] <- 'm8'\n",
    "\n",
    "    #xtable_sqrt$model_id<-names(rds_models)[1]\n",
    "    ids <- unique(xtable_sqrt$model_id)\n",
    "    #print(paste(\"Model ids:\" , ids))\n",
    "    n_models <- length(ids)\n",
    "    \n",
    "    # One model for actual application - no resampling\n",
    "    \n",
    "    # Iterate through re-sampling models\n",
    "    for (i in ids){\n",
    "    \n",
    "        # subset data for model id\n",
    "        #print(paste(\"Model id:\", i))\n",
    "        #print(\"Model name:\")\n",
    "        #print(rds_models[names(rds_models)==i])\n",
    "        model_i<-readRDS(rds_models[names(rds_models)==i])\n",
    "\n",
    "        # get variance covariance matrix\n",
    "        model_varcov <- vcov(model_i)\n",
    "\n",
    "        # get coefficients\n",
    "        coeffs <- model_i$coefficients\n",
    "        #print(model_i$coefficients)\n",
    "        \n",
    "        # Modify coeffients through sampling variance covariance matrix\n",
    "        if(RESAMP_COVAR_MAT){\n",
    "              mod.coeffs <- mvrnorm(n = RESAMP_ITER, mu=coeffs, Sigma = model_varcov)\n",
    "              model_i$coefficients <- mod.coeffs[1,] \n",
    "        }\n",
    "\n",
    "        # SE\n",
    "        xtable_sqrt$SE[xtable_sqrt$model_id==i] <- summary(model_i)$sigma^2\n",
    "\n",
    "        # AGB prediction\n",
    "        xtable_sqrt$AGB[xtable_sqrt$model_id==i]<-predict(model_i, newdata=xtable_sqrt[xtable_sqrt$model_id==i,])\n",
    "\n",
    "        # define C\n",
    "        C <- mean(model_i$fitted.values^2)/mean(model_i$model$`sqrt(AGBD)`^2)\n",
    "\n",
    "        # Set negatives to zero\n",
    "        negs <- which(xtable_sqrt$AGB<0)\n",
    "        if(length(negs)>0){\n",
    "            xtable_sqrt$AGB[negs] == 0.0\n",
    "        }\n",
    "\n",
    "        # We multiply by C in case there is a systematic over or under estimation in the model (bias correction)\n",
    "        xtable_sqrt$AGB[xtable_sqrt$model_id==i]<-C*(xtable_sqrt$AGB[xtable_sqrt$model_id==i]^2)\n",
    "\n",
    "        # Set predictions where slopemask & validmask are 0 to 0\n",
    "        xtable_sqrt$AGB[which(xtable_sqrt$slopemask==0)] <- 0.0\n",
    "\n",
    "        xtable_sqrt$AGB[which(xtable_sqrt$ValidMask==0)] <- 0.0\n",
    "\n",
    "        # Set predictions where landcover is water, urban, snow, barren to 0\n",
    "        #bad_lc <- c(0, 13, 15, 16)\n",
    "        xtable_sqrt$AGB[which(xtable_sqrt$seg_landcov %in% EXCLUDE_LC_VALUE_LIST)] <- 0.0\n",
    "\n",
    "    }\n",
    "    \n",
    "    xtable2<-cbind(xtable_i, xtable_sqrt$model_id, xtable_sqrt$AGB, xtable_sqrt$SE)\n",
    "    ncol <- ncol(xtable2)\n",
    "    \n",
    "    # Returning AGB mean and standard error in megagrams per hectare\n",
    "    colnames(xtable2)[(ncol-2):ncol]<-c('AGB_model_id','AGB_mean_mg_ha', 'AGB_se_mg_ha')\n",
    "    \n",
    "    return(xtable2)\n",
    "}\n",
    "\n",
    "# Circ map new: trying to combine the best of the sf and sp approaches\n",
    "DO_MAP_BOREAL_SP <- function( MAP_EXTENT = extent(-180,180,45,90), xlim=NULL, ylim=NULL, rotate_map=0, proj_name = 'azequalarea', LAYER_LIST=NULL, \n",
    "                             boreal_shp_fn = '/projects/my-public-bucket/misc_files/Ecoregions2017_boreal_m.shp'){\n",
    "  #\n",
    "  # Map with a polar projection\n",
    "  #\n",
    "  \n",
    "  # Color scale help\n",
    "  #https://biostats.w.uib.no/color-scale-for-continuous-variables/\n",
    "  \n",
    "  #source(path(\"C:\\\\Users\\\\pmontesa\\\\Google Drive\\\\Work\\\\R\",\"plot_functions.R\"))\n",
    "  # Shapefiles\n",
    "  \n",
    "  world <- crop(ne_countries(scale = \"medium\", returnclass = \"sp\"), MAP_EXTENT)\n",
    "  \n",
    "  # WWF\n",
    "  #boreal <- shp_fort_join(\"D:\\\\databank\\\\wwf\\\\arc\\\\wwf_circumboreal_Dissolve.shp\", MAP_EXTENT, REPROJECT = TRUE)\n",
    "  # TerraPulse\n",
    "  boreal <- shp_fort_join(boreal_shp_fn, MAP_EXTENT, REPROJECT = TRUE)\n",
    "  \n",
    "  map_list_base = list(\n",
    "    \n",
    "    geom_polygon(data = fortify(world), aes(x = long, y = lat, group = group), fill=\"grey90\", color=NA),\n",
    "    geom_polygon(data = boreal, aes(x = long, y = lat, group = group), color=NA, fill=\"grey70\"))\n",
    "    \n",
    "  map_list_top = list(\n",
    "    \n",
    "    geom_polygon(data = fortify(world), aes(x = long, y = lat, group = group), fill=NA, color=\"black\", size=0.1 ),\n",
    "    \n",
    "    theme_minimal() , \n",
    "    theme(axis.text = element_blank(), axis.title = element_blank() ) ,\n",
    "    \n",
    "    #geom_polygon(data = fortify(continents.df_stereo), aes(x = long, y = lat, group = group), fill = NULL, colour = \"black\", size=0.25) +\n",
    "    #scale_color_distiller(palette = \"Greens\", direction = 1, name = \"%\"),\n",
    "    #scale_color_manual(values = COLOR_PAL, name = map_str) ,\n",
    "    guides(guide = guide_legend(direction = \"horizontal\", nrow=1, label.position = \"bottom\", title.position = \"bottom\") ) ,\n",
    "    theme(legend.position=\"top\",\n",
    "          legend.title = element_text(size=9),\n",
    "          #       legend.direction  = 'vertical',\n",
    "          legend.key.width  = unit(1.0, \"cm\"),\n",
    "          legend.key.height = unit(.25, \"cm\")  )\n",
    "  )\n",
    "  \n",
    "  if(is.null(LAYER_LIST)){\n",
    "    map_list = list(\n",
    "      map_list_base,\n",
    "      map_list_top\n",
    "    )\n",
    "  }else{\n",
    "    map_list = list(\n",
    "      map_list_base,\n",
    "      LAYER_LIST,\n",
    "      map_list_top\n",
    "    )\n",
    "  }\n",
    "  \n",
    "  p_map = ggplot() + map_list +\n",
    "    #coord_map_stereo_list(proj_name = proj_name, min_lat = MAP_EXTENT[3], rotation=rotate_map, xlim = xlim, ylim = ylim)\n",
    "    coord_map_stereo_list(proj_name = proj_name, min_lat = MAP_EXTENT[3], rotation=rotate_map)\n",
    "  \n",
    "  if(FALSE){\n",
    "    out_plot_fn = paste0(\"D:/projects/3dsi/plots/map_boreal_\",proj_name,\"_\", format(Sys.time(), \"_%Y%m%d\"),'.png')\n",
    "    print(out_plot_fn)\n",
    "    ggsave(plot = p_map ,\n",
    "           file = out_plot_fn,\n",
    "           device = 'png', dpi = 300, width = 5, height = 5)\n",
    "  }\n",
    "  #print(p_map)\n",
    "  return(p_map)\n",
    "  \n",
    "}\n",
    "\n",
    "coord_map_stereo_list <- function(proj_name = \"stereo\", rotation = 0, min_lat = 50, xlims=NULL, ylims=NULL, LABEL_SIZE=3){ \n",
    "  \n",
    "  # Defines the x axes required\n",
    "  lat_lines = seq(min_lat+10, 80, by = 10)\n",
    "  lat_labs = paste0(seq(min_lat+10, 80, by = 10), \"\\u00B0N\")\n",
    "  \n",
    "  lon_lines = seq(0, 330, by = 30)\n",
    "  lon_labs = c(\"0\", paste0(seq(30, 150, by = 30), \"°E\"), \"180\", rev(paste0(seq(30, 150, by = 30), \"°W\")))\n",
    "  \n",
    "  \n",
    "  return(list(\n",
    "    # Convert to polar coordinates\n",
    "    coord_map(proj_name, orientation = c(90, 0, rotation, xlims=xlims, ylims=ylims)), #\"ortho\"\"\n",
    "    scale_y_continuous(breaks = seq(45, 90, by = 5), labels = NULL),\n",
    "    \n",
    "    # Removes Axes and labels\n",
    "    scale_x_continuous(breaks = NULL),\n",
    "    xlab(\"\"),\n",
    "    ylab(\"\"),\n",
    "    \n",
    "    # Adds axes\n",
    "    # Latitude\n",
    "    geom_hline(aes(yintercept = lat_lines), size = 0.25, color = \"grey80\", linetype = \"dotted\"),\n",
    "    # Outer circular border\n",
    "    geom_hline(aes(yintercept = min_lat), size = 0.25), #1\n",
    "    # Longitude\n",
    "    geom_vline(aes(xintercept = lon_lines), size = 0.25, color = \"grey80\", linetype = \"dotted\"),\n",
    "    #geom_segment(aes(y = 45, yend = 85, x = x_lines, xend = x_lines), linetype = \"dotted\") +\n",
    "    \n",
    "    # Adds labels\n",
    "    #geom_text(aes(x = 0, y = lat_lines, hjust = 0.5, label = lat_labs)),\n",
    "    geom_label(aes(x = 0, y = lat_lines, label = lat_labs), label.size = NA, size=LABEL_SIZE, color = \"black\", fill=\"white\", label.padding=unit(0.1,\"lines\")),\n",
    "    #geom_text(aes(x = lon_lines, y = min_lat-3, hjust = 0.5, vjust = 0.5, label = lon_labs), size = 2.5), #hjust = 0.5\n",
    "    # min-3 so lon labels are centered over outer line\n",
    "    geom_label(aes(x = lon_lines, y = min_lat-3, label = lon_labs), label.size = NA,  hjust='inward', vjust='inward', size = LABEL_SIZE, color = \"black\", fill=\"white\", label.padding=unit(0.1,\"lines\")),  #y = min_lat-3 why used to be this?\n",
    "    \n",
    "    ##guides(fill=FALSE)+\n",
    "    \n",
    "    # Change theme to remove axes and ticks\n",
    "    theme(panel.background = element_blank(),\n",
    "          #panel.grid = element_line(size = 0.25, linetype = 'dotted', colour = \"grey50\"),\n",
    "          axis.ticks=element_blank())\n",
    "    #,\n",
    "    #labs(caption = \"Source: circ_tte_map.Rmd\")\n",
    "  ))\n",
    "}  \n",
    "shp_fort_join = function(shapefile_fn, ext, REPROJECT=FALSE){\n",
    "\n",
    "  shp_name = tools::file_path_sans_ext(basename(shapefile_fn))\n",
    "  shp = readOGR(shapefile_fn, layer = shp_name)\n",
    "  # Test this, so you can read in geojson and gpkg\n",
    "  #shp = sf::st_read(shapefile_fn)\n",
    "\n",
    "  if(REPROJECT){\n",
    "      # Shapefile reprojection to geog\n",
    "      geog_proj4 = '+proj=longlat +datum=WGS84 +no_defs +ellps=WGS84 +towgs84=0,0,0'\n",
    "      shp <- spTransform(shp, geog_proj4)\n",
    "  }\n",
    "\n",
    "  shp <- crop(shp, ext)\n",
    "  \n",
    "  #Get attributes, fortify data, and merge attributes to data\n",
    "  tbl = shp@data\n",
    "  tbl$id <- rownames(tbl)\n",
    "  shp.df <- ggplot2::fortify(shp, id = \"id\")\n",
    "  \n",
    "  return(plyr::join(shp.df, tbl, by = \"id\"))\n",
    "}\n",
    "\n",
    "gridCreate<-function(shp, res,proj_out, buffer=10000){\n",
    "  \n",
    "  if (!is.null(buffer)){\n",
    "    shp<-buffer(shp, width=buffer)\n",
    "  }\n",
    "  ext <- floor(extent(shp))\n",
    "  rr <- raster(ext, res=res)\n",
    "  rr <- rasterize(shp, rr, field=1)\n",
    "  rr[!is.na(rr[])]<-1:length(rr[!is.na(rr[])])\n",
    "  grid<-rasterToPolygons(rr)\n",
    "  crs(grid)<-projection(shp)\n",
    "  if (!proj_out==projection(shp)){\n",
    "    grid<-spTransform(grid,CRS(proj_out))\n",
    "  }\n",
    "  return(grid)  \n",
    "}\n",
    "\n",
    "crs_canalb = \"+proj=aea +lat_0=40 +lon_0=180 +lat_1=50 +lat_2=70 +x_0=0 +y_0=0 +datum=NAD83 +units=m +no_defs\"\n",
    "crs_albers = \"+proj=aea +lat_1=50 +lat_2=70 +lat_0=40 +lon_0=180 +x_0=0 +y_0=0 +ellps=GRS80 +datum=NAD83 +units=m +no_defs\"\n",
    "crs_gcs = \"+proj=longlat +ellps=WGS84 +datum=WGS84 +no_defs\""
   ]
  },
  {
   "cell_type": "markdown",
   "id": "0df011ad-5dcc-4aca-8ed8-606b7cfc70c6",
   "metadata": {
    "tags": []
   },
   "source": [
    "### AGB Models"
   ]
  },
  {
   "cell_type": "code",
   "execution_count": 6,
   "id": "96b8e2a9-fe02-4d5a-a6b6-a3b8b1734362",
   "metadata": {
    "tags": []
   },
   "outputs": [
    {
     "name": "stdout",
     "output_type": "stream",
     "text": [
      "[1] \"/projects/code/icesat2_boreal/notebooks/biomass_models/predict_DBT_coarse_fit_DBT_sqrt_sqrt_Snowdon_2.rds\"    \n",
      "[2] \"/projects/code/icesat2_boreal/notebooks/biomass_models/predict_DBT_US_fit_DBT_sqrt_sqrt_Snowdon_1.rds\"        \n",
      "[3] \"/projects/code/icesat2_boreal/notebooks/biomass_models/predict_ENT_coarse_fit_ENT_sqrt_sqrt_Snowdon_1.rds\"    \n",
      "[4] \"/projects/code/icesat2_boreal/notebooks/biomass_models/predict_ENT_coarse_fit_ENT_sqrt_sqrt_Snowdon_2.rds\"    \n",
      "[5] \"/projects/code/icesat2_boreal/notebooks/biomass_models/predict_ENT_Eu_fit_ENT_sqrt_sqrt_Snowdon_8.rds\"        \n",
      "[6] \"/projects/code/icesat2_boreal/notebooks/biomass_models/predict_ENT_US_fit_US_sqrt_sqrt_Snowdon_1.rds\"         \n",
      "[7] \"/projects/code/icesat2_boreal/notebooks/biomass_models/predict_US_coarse_fit_US_sqrt_sqrt_Snowdon_2.rds\"      \n",
      "[8] \"/projects/code/icesat2_boreal/notebooks/biomass_models/predict_world_coarse_fit_world_sqrt_sqrt_Snowdon_2.rds\"\n",
      "[1] \"DBT_coarse_2.rds\"   \"DBT_US_1.rds\"       \"ENT_coarse_1.rds\"  \n",
      "[4] \"ENT_coarse_2.rds\"   \"ENT_Eu_8.rds\"       \"ENT_US_1.rds\"      \n",
      "[7] \"US_coarse_2.rds\"    \"world_coarse_2.rds\"\n"
     ]
    }
   ],
   "source": [
    "ATL08_cols_list = c(\"tile_num\", \"seg_landcov\", \"lon\",\"lat\",\"rh25\",\"rh50\",\"rh60\",\"rh70\",\"rh75\",\"rh80\",\"rh90\",\"h_can\",\"doy\", \"y\")#,\"rh95\",\"rh98\")\n",
    "ATL08_NAMES_FOR_RDS = c(\"tile_num\", \"seg_landcov\", \"lon\",\"lat\",\"RH_25\",\"RH_50\",\"RH_60\",\"RH_70\",\"RH_75\",\"RH_80\",\"RH_90\",\"RH_98\",\"DOY\", \"YEAR\", \"REALM\")\n",
    "\n",
    "# rds models\n",
    "models_list <- list.files(\"/projects/code/icesat2_boreal/notebooks/biomass_models\", \".rds\", full.names = T)\n",
    "print(models_list)\n",
    "\n",
    "# adding model ids - original non-descriptive model names\n",
    "#models_id_list <- names(models_list) <- paste0(\"m\",1:length(models_list))\n",
    "\n",
    "# adding model ids based on file names - better for tracing back to original models...\n",
    "models_id_list <- names(models_list) <- unlist(lapply(basename(models_list), function(x) paste(unlist(strsplit(x, '_'))[2], unlist(strsplit(x, '_'))[3], unlist(strsplit(x, '_'))[9], sep='_')))\n",
    "\n",
    "print(models_id_list)"
   ]
  },
  {
   "cell_type": "code",
   "execution_count": 7,
   "id": "d4023c14-c40b-4bf3-8ac1-4f63cf8954e7",
   "metadata": {
    "tags": []
   },
   "outputs": [
    {
     "data": {
      "text/html": [
       "<style>\n",
       ".dl-inline {width: auto; margin:0; padding: 0}\n",
       ".dl-inline>dt, .dl-inline>dd {float: none; width: auto; display: inline-block}\n",
       ".dl-inline>dt::after {content: \":\\0020\"; padding-right: .5ex}\n",
       ".dl-inline>dt:not(:first-of-type) {padding-left: .5ex}\n",
       "</style><dl class=dl-inline><dt>DBT_coarse_2.rds</dt><dd>'/projects/code/icesat2_boreal/notebooks/biomass_models/predict_DBT_coarse_fit_DBT_sqrt_sqrt_Snowdon_2.rds'</dd><dt>DBT_US_1.rds</dt><dd>'/projects/code/icesat2_boreal/notebooks/biomass_models/predict_DBT_US_fit_DBT_sqrt_sqrt_Snowdon_1.rds'</dd><dt>ENT_coarse_1.rds</dt><dd>'/projects/code/icesat2_boreal/notebooks/biomass_models/predict_ENT_coarse_fit_ENT_sqrt_sqrt_Snowdon_1.rds'</dd><dt>ENT_coarse_2.rds</dt><dd>'/projects/code/icesat2_boreal/notebooks/biomass_models/predict_ENT_coarse_fit_ENT_sqrt_sqrt_Snowdon_2.rds'</dd><dt>ENT_Eu_8.rds</dt><dd>'/projects/code/icesat2_boreal/notebooks/biomass_models/predict_ENT_Eu_fit_ENT_sqrt_sqrt_Snowdon_8.rds'</dd><dt>ENT_US_1.rds</dt><dd>'/projects/code/icesat2_boreal/notebooks/biomass_models/predict_ENT_US_fit_US_sqrt_sqrt_Snowdon_1.rds'</dd><dt>US_coarse_2.rds</dt><dd>'/projects/code/icesat2_boreal/notebooks/biomass_models/predict_US_coarse_fit_US_sqrt_sqrt_Snowdon_2.rds'</dd><dt>world_coarse_2.rds</dt><dd>'/projects/code/icesat2_boreal/notebooks/biomass_models/predict_world_coarse_fit_world_sqrt_sqrt_Snowdon_2.rds'</dd></dl>\n"
      ],
      "text/latex": [
       "\\begin{description*}\n",
       "\\item[DBT\\textbackslash{}\\_coarse\\textbackslash{}\\_2.rds] '/projects/code/icesat2\\_boreal/notebooks/biomass\\_models/predict\\_DBT\\_coarse\\_fit\\_DBT\\_sqrt\\_sqrt\\_Snowdon\\_2.rds'\n",
       "\\item[DBT\\textbackslash{}\\_US\\textbackslash{}\\_1.rds] '/projects/code/icesat2\\_boreal/notebooks/biomass\\_models/predict\\_DBT\\_US\\_fit\\_DBT\\_sqrt\\_sqrt\\_Snowdon\\_1.rds'\n",
       "\\item[ENT\\textbackslash{}\\_coarse\\textbackslash{}\\_1.rds] '/projects/code/icesat2\\_boreal/notebooks/biomass\\_models/predict\\_ENT\\_coarse\\_fit\\_ENT\\_sqrt\\_sqrt\\_Snowdon\\_1.rds'\n",
       "\\item[ENT\\textbackslash{}\\_coarse\\textbackslash{}\\_2.rds] '/projects/code/icesat2\\_boreal/notebooks/biomass\\_models/predict\\_ENT\\_coarse\\_fit\\_ENT\\_sqrt\\_sqrt\\_Snowdon\\_2.rds'\n",
       "\\item[ENT\\textbackslash{}\\_Eu\\textbackslash{}\\_8.rds] '/projects/code/icesat2\\_boreal/notebooks/biomass\\_models/predict\\_ENT\\_Eu\\_fit\\_ENT\\_sqrt\\_sqrt\\_Snowdon\\_8.rds'\n",
       "\\item[ENT\\textbackslash{}\\_US\\textbackslash{}\\_1.rds] '/projects/code/icesat2\\_boreal/notebooks/biomass\\_models/predict\\_ENT\\_US\\_fit\\_US\\_sqrt\\_sqrt\\_Snowdon\\_1.rds'\n",
       "\\item[US\\textbackslash{}\\_coarse\\textbackslash{}\\_2.rds] '/projects/code/icesat2\\_boreal/notebooks/biomass\\_models/predict\\_US\\_coarse\\_fit\\_US\\_sqrt\\_sqrt\\_Snowdon\\_2.rds'\n",
       "\\item[world\\textbackslash{}\\_coarse\\textbackslash{}\\_2.rds] '/projects/code/icesat2\\_boreal/notebooks/biomass\\_models/predict\\_world\\_coarse\\_fit\\_world\\_sqrt\\_sqrt\\_Snowdon\\_2.rds'\n",
       "\\end{description*}\n"
      ],
      "text/markdown": [
       "DBT_coarse_2.rds\n",
       ":   '/projects/code/icesat2_boreal/notebooks/biomass_models/predict_DBT_coarse_fit_DBT_sqrt_sqrt_Snowdon_2.rds'DBT_US_1.rds\n",
       ":   '/projects/code/icesat2_boreal/notebooks/biomass_models/predict_DBT_US_fit_DBT_sqrt_sqrt_Snowdon_1.rds'ENT_coarse_1.rds\n",
       ":   '/projects/code/icesat2_boreal/notebooks/biomass_models/predict_ENT_coarse_fit_ENT_sqrt_sqrt_Snowdon_1.rds'ENT_coarse_2.rds\n",
       ":   '/projects/code/icesat2_boreal/notebooks/biomass_models/predict_ENT_coarse_fit_ENT_sqrt_sqrt_Snowdon_2.rds'ENT_Eu_8.rds\n",
       ":   '/projects/code/icesat2_boreal/notebooks/biomass_models/predict_ENT_Eu_fit_ENT_sqrt_sqrt_Snowdon_8.rds'ENT_US_1.rds\n",
       ":   '/projects/code/icesat2_boreal/notebooks/biomass_models/predict_ENT_US_fit_US_sqrt_sqrt_Snowdon_1.rds'US_coarse_2.rds\n",
       ":   '/projects/code/icesat2_boreal/notebooks/biomass_models/predict_US_coarse_fit_US_sqrt_sqrt_Snowdon_2.rds'world_coarse_2.rds\n",
       ":   '/projects/code/icesat2_boreal/notebooks/biomass_models/predict_world_coarse_fit_world_sqrt_sqrt_Snowdon_2.rds'\n",
       "\n"
      ],
      "text/plain": [
       "                                                                                               DBT_coarse_2.rds \n",
       "    \"/projects/code/icesat2_boreal/notebooks/biomass_models/predict_DBT_coarse_fit_DBT_sqrt_sqrt_Snowdon_2.rds\" \n",
       "                                                                                                   DBT_US_1.rds \n",
       "        \"/projects/code/icesat2_boreal/notebooks/biomass_models/predict_DBT_US_fit_DBT_sqrt_sqrt_Snowdon_1.rds\" \n",
       "                                                                                               ENT_coarse_1.rds \n",
       "    \"/projects/code/icesat2_boreal/notebooks/biomass_models/predict_ENT_coarse_fit_ENT_sqrt_sqrt_Snowdon_1.rds\" \n",
       "                                                                                               ENT_coarse_2.rds \n",
       "    \"/projects/code/icesat2_boreal/notebooks/biomass_models/predict_ENT_coarse_fit_ENT_sqrt_sqrt_Snowdon_2.rds\" \n",
       "                                                                                                   ENT_Eu_8.rds \n",
       "        \"/projects/code/icesat2_boreal/notebooks/biomass_models/predict_ENT_Eu_fit_ENT_sqrt_sqrt_Snowdon_8.rds\" \n",
       "                                                                                                   ENT_US_1.rds \n",
       "         \"/projects/code/icesat2_boreal/notebooks/biomass_models/predict_ENT_US_fit_US_sqrt_sqrt_Snowdon_1.rds\" \n",
       "                                                                                                US_coarse_2.rds \n",
       "      \"/projects/code/icesat2_boreal/notebooks/biomass_models/predict_US_coarse_fit_US_sqrt_sqrt_Snowdon_2.rds\" \n",
       "                                                                                             world_coarse_2.rds \n",
       "\"/projects/code/icesat2_boreal/notebooks/biomass_models/predict_world_coarse_fit_world_sqrt_sqrt_Snowdon_2.rds\" "
      ]
     },
     "metadata": {},
     "output_type": "display_data"
    }
   ],
   "source": [
    "models_list"
   ]
  },
  {
   "cell_type": "markdown",
   "id": "69970e77-85e0-42b2-899c-7e0a7c58dbce",
   "metadata": {
    "tags": []
   },
   "source": [
    "### Land cover classes"
   ]
  },
  {
   "cell_type": "code",
   "execution_count": 8,
   "id": "b22ab563-b3b9-4f75-bc2a-322903bdf17a",
   "metadata": {
    "tags": []
   },
   "outputs": [
    {
     "data": {
      "text/html": [
       "<style>\n",
       ".dl-inline {width: auto; margin:0; padding: 0}\n",
       ".dl-inline>dt, .dl-inline>dd {float: none; width: auto; display: inline-block}\n",
       ".dl-inline>dt::after {content: \":\\0020\"; padding-right: .5ex}\n",
       ".dl-inline>dt:not(:first-of-type) {padding-left: .5ex}\n",
       "</style><dl class=dl-inline><dt>Shrubs</dt><dd>'#FFBB22'</dd><dt>Herbaceous</dt><dd>'#FFFF4C'</dd><dt>Bare/sparse</dt><dd>'#B4B4B4'</dd><dt>Herbaceous\n",
       "wetland</dt><dd>'#0096A0'</dd><dt>Moss/lichen</dt><dd>'#FAE6A0'</dd><dt>Closed forest\n",
       "evergreen needle</dt><dd>'#58481F'</dd><dt>Closed forest\n",
       "evergreen_broad</dt><dd>'#009900'</dd><dt>Closed forest\n",
       "deciduous needle</dt><dd>'#70663E'</dd><dt>Closed forest\n",
       "deciduous broad</dt><dd>'#00CC00'</dd><dt>Closed forest\n",
       "mixed</dt><dd>'#4E751F'</dd><dt>Closed forest\n",
       "unknown</dt><dd>'#007800'</dd><dt>Open forest\n",
       "evergreen needle</dt><dd>'#666000'</dd><dt>Open forest\n",
       "evergreen_broad</dt><dd>'#8DB400'</dd><dt>Open forest\n",
       "deciduous needle</dt><dd>'#8D7400'</dd><dt>Open forest\n",
       "deciduous_broad</dt><dd>'#A0DC00'</dd><dt>Open forest\n",
       "mixed</dt><dd>'#929900'</dd><dt>Open forest\n",
       "unknown</dt><dd>'#648C00'</dd></dl>\n"
      ],
      "text/latex": [
       "\\begin{description*}\n",
       "\\item[Shrubs] '\\#FFBB22'\n",
       "\\item[Herbaceous] '\\#FFFF4C'\n",
       "\\item[Bare/sparse] '\\#B4B4B4'\n",
       "\\item[Herbaceous\n",
       "wetland] '\\#0096A0'\n",
       "\\item[Moss/lichen] '\\#FAE6A0'\n",
       "\\item[Closed forest\n",
       "evergreen needle] '\\#58481F'\n",
       "\\item[Closed forest\n",
       "evergreen\\textbackslash{}\\_broad] '\\#009900'\n",
       "\\item[Closed forest\n",
       "deciduous needle] '\\#70663E'\n",
       "\\item[Closed forest\n",
       "deciduous broad] '\\#00CC00'\n",
       "\\item[Closed forest\n",
       "mixed] '\\#4E751F'\n",
       "\\item[Closed forest\n",
       "unknown] '\\#007800'\n",
       "\\item[Open forest\n",
       "evergreen needle] '\\#666000'\n",
       "\\item[Open forest\n",
       "evergreen\\textbackslash{}\\_broad] '\\#8DB400'\n",
       "\\item[Open forest\n",
       "deciduous needle] '\\#8D7400'\n",
       "\\item[Open forest\n",
       "deciduous\\textbackslash{}\\_broad] '\\#A0DC00'\n",
       "\\item[Open forest\n",
       "mixed] '\\#929900'\n",
       "\\item[Open forest\n",
       "unknown] '\\#648C00'\n",
       "\\end{description*}\n"
      ],
      "text/markdown": [
       "Shrubs\n",
       ":   '#FFBB22'Herbaceous\n",
       ":   '#FFFF4C'Bare/sparse\n",
       ":   '#B4B4B4'Herbaceous\n",
       "wetland\n",
       ":   '#0096A0'Moss/lichen\n",
       ":   '#FAE6A0'Closed forest\n",
       "evergreen needle\n",
       ":   '#58481F'Closed forest\n",
       "evergreen_broad\n",
       ":   '#009900'Closed forest\n",
       "deciduous needle\n",
       ":   '#70663E'Closed forest\n",
       "deciduous broad\n",
       ":   '#00CC00'Closed forest\n",
       "mixed\n",
       ":   '#4E751F'Closed forest\n",
       "unknown\n",
       ":   '#007800'Open forest\n",
       "evergreen needle\n",
       ":   '#666000'Open forest\n",
       "evergreen_broad\n",
       ":   '#8DB400'Open forest\n",
       "deciduous needle\n",
       ":   '#8D7400'Open forest\n",
       "deciduous_broad\n",
       ":   '#A0DC00'Open forest\n",
       "mixed\n",
       ":   '#929900'Open forest\n",
       "unknown\n",
       ":   '#648C00'\n",
       "\n"
      ],
      "text/plain": [
       "                         Shrubs                      Herbaceous \n",
       "                      \"#FFBB22\"                       \"#FFFF4C\" \n",
       "                    Bare/sparse             Herbaceous\\nwetland \n",
       "                      \"#B4B4B4\"                       \"#0096A0\" \n",
       "                    Moss/lichen Closed forest\\nevergreen needle \n",
       "                      \"#FAE6A0\"                       \"#58481F\" \n",
       " Closed forest\\nevergreen_broad Closed forest\\ndeciduous needle \n",
       "                      \"#009900\"                       \"#70663E\" \n",
       " Closed forest\\ndeciduous broad            Closed forest\\nmixed \n",
       "                      \"#00CC00\"                       \"#4E751F\" \n",
       "         Closed forest\\nunknown   Open forest\\nevergreen needle \n",
       "                      \"#007800\"                       \"#666000\" \n",
       "   Open forest\\nevergreen_broad   Open forest\\ndeciduous needle \n",
       "                      \"#8DB400\"                       \"#8D7400\" \n",
       "   Open forest\\ndeciduous_broad              Open forest\\nmixed \n",
       "                      \"#A0DC00\"                       \"#929900\" \n",
       "           Open forest\\nunknown \n",
       "                      \"#648C00\" "
      ]
     },
     "metadata": {},
     "output_type": "display_data"
    }
   ],
   "source": [
    "# https://developers.google.com/earth-engine/datasets/catalog/COPERNICUS_Landcover_100m_Proba-V-C3_Global#bands\n",
    "class_values = c( 0, 111, 113, 112, 114, 115, 116, 121, 123, 122, 124, 125, 126, 20, 30, 90, 100, 60, 40, 50, 70, 80, 200)\n",
    "class_names = c('No data',\n",
    "                'Shrubs','Herbaceous','Cultivated/managed','Urban/built','Bare/sparse', 'Snow/ice','Permanent\\nwater', \n",
    "                'Herbaceous\\nwetland','Moss/lichen', \n",
    "                'Closed forest\\nevergreen needle','Closed forest\\nevergreen_broad','Closed forest\\ndeciduous needle','Closed forest\\ndeciduous broad',\n",
    "                'Closed forest\\nmixed', 'Closed forest\\nunknown',\n",
    "                'Open forest\\nevergreen needle','Open forest\\nevergreen_broad','Open forest\\ndeciduous needle','Open forest\\ndeciduous_broad',\n",
    "                'Open forest\\nmixed', 'Open forest\\nunknown', \n",
    "                'Open sea')\n",
    "class_colors = c('#282828',\n",
    "                 '#FFBB22','#FFFF4C','#F096FF','#FA0000','#B4B4B4','#F0F0F0','#0032C8',\n",
    "                 '#0096A0','#FAE6A0',\n",
    "                 '#58481F','#009900','#70663E','#00CC00',\n",
    "                 '#4E751F','#007800',\n",
    "                 '#666000','#8DB400','#8D7400','#A0DC00',\n",
    "                 '#929900','#648C00',\n",
    "                 '#000080')\n",
    "names(class_colors) = class_names\n",
    "class_colors = class_colors[!(names(class_colors) %in% c('No data','Snow/ice','Open sea','Permanent\\nwater','Cultivated/managed','Urban/built'))]\n",
    "class_colors"
   ]
  },
  {
   "cell_type": "markdown",
   "id": "cbe4efc8-358a-45d0-828f-a31acc35b646",
   "metadata": {},
   "source": [
    "### Filtered ATL08 data"
   ]
  },
  {
   "cell_type": "code",
   "execution_count": 9,
   "id": "f99342b9-8b07-42df-a331-26284b7fb2e5",
   "metadata": {
    "tags": []
   },
   "outputs": [],
   "source": [
    "# Final file\n",
    "AGB_tindex_master_fn = \"s3://maap-ops-workspace/shared/nathanmthomas/DPS_tile_lists/AGB/c2020/map_boreal_2022_rh_noground_v4/AGB_tindex_master.csv\"\n",
    "\n",
    "# Final file\n",
    "ATL08_filt_tindex_master_fn = \"s3://maap-ops-workspace/shared/lduncanson/DPS_tile_lists/fall2022/with_atl03_rh/ATL08_filt_tindex_master.csv\""
   ]
  },
  {
   "cell_type": "code",
   "execution_count": 10,
   "id": "a8318dbd-b609-4acc-9edb-ddbd5e292481",
   "metadata": {
    "tags": []
   },
   "outputs": [],
   "source": [
    "Sys.setenv(\"AWS_DEFAULT_REGION\" = \"us-west-2\") \n",
    "\n",
    "# Read the tindex from s3\n",
    "AGB_tindex_master <- aws.s3::s3read_using(read.csv, object = AGB_tindex_master_fn)"
   ]
  },
  {
   "cell_type": "markdown",
   "id": "643e7db8-d91b-4a5a-9a6c-7c26ad792a9e",
   "metadata": {
    "tags": []
   },
   "source": [
    "## Boreal extents, clips, and tile lists"
   ]
  },
  {
   "cell_type": "code",
   "execution_count": 11,
   "id": "0b48396e-74c9-4837-aaf2-b428d42b5884",
   "metadata": {
    "tags": []
   },
   "outputs": [
    {
     "name": "stdout",
     "output_type": "stream",
     "text": [
      "Reading layer `wwf_circumboreal_Dissolve' from data source \n",
      "  `/projects/shared-buckets/nathanmthomas/analyze_agb/input_zones/wwf_circumboreal_Dissolve.geojson' \n",
      "  using driver `GeoJSON'\n",
      "Simple feature collection with 2 features and 4 fields\n",
      "Geometry type: MULTIPOLYGON\n",
      "Dimension:     XY\n",
      "Bounding box:  xmin: -164.95 ymin: 44.39544 xmax: 169.9216 ymax: 71.41746\n",
      "Geodetic CRS:  WGS 84\n"
     ]
    }
   ],
   "source": [
    "boreal_shp_fn = '/projects/my-public-bucket/misc_files/Ecoregions2017_boreal_m.shp'\n",
    "boreal_shp_fn = '/projects/shared-buckets/nathanmthomas/analyze_agb/input_zones/wwf_circumboreal_Dissolve.geojson'\n",
    "boreal = st_read(boreal_shp_fn)\n",
    "boreal_albers<-spTransform(sf:::as_Spatial(boreal),CRS(crs_albers))"
   ]
  },
  {
   "cell_type": "code",
   "execution_count": 12,
   "id": "e7772eeb-145b-4796-94d8-7de57152c0b9",
   "metadata": {
    "tags": []
   },
   "outputs": [
    {
     "name": "stdout",
     "output_type": "stream",
     "text": [
      "Reading layer `boreal_tiles_v003' from data source \n",
      "  `/projects/shared-buckets/nathanmthomas/boreal_tiles_v003.gpkg' \n",
      "  using driver `GPKG'\n",
      "Simple feature collection with 5337 features and 4 fields\n",
      "Geometry type: POLYGON\n",
      "Dimension:     XY\n",
      "Bounding box:  xmin: -6111478 ymin: 1233304 xmax: 6308522 ymax: 10323300\n",
      "Projected CRS: unnamed\n"
     ]
    },
    {
     "name": "stderr",
     "output_type": "stream",
     "text": [
      "Warning message:\n",
      "“attribute variables are assumed to be spatially constant throughout all geometries”\n",
      "Warning message:\n",
      "“attribute variables are assumed to be spatially constant throughout all geometries”\n",
      "Warning message:\n",
      "“attribute variables are assumed to be spatially constant throughout all geometries”\n"
     ]
    }
   ],
   "source": [
    "boreal_tile_index_path = '/projects/shared-buckets/nathanmthomas/boreal_tiles_v003.gpkg'\n",
    "crs_wgs84 = \"+proj=longlat +ellps=WGS84 +datum=WGS84 +no_defs\"\n",
    "boreal_tiles = st_read(boreal_tile_index_path) %>% st_transform(crs=crs_wgs84)\n",
    "\n",
    "boreal_tiles_clip = st_intersection(\n",
    "                                boreal_tiles, \n",
    "                                boreal)#%>% as.data.frame()\n",
    "boreal_tiles_clip_NA = st_intersection(\n",
    "                                boreal_tiles, \n",
    "                                boreal %>% filter(REALM == 'NA') )\n",
    "boreal_tiles_clip_PA = st_intersection(\n",
    "                                boreal_tiles, \n",
    "                                boreal %>% filter(REALM == 'PA') )"
   ]
  },
  {
   "cell_type": "markdown",
   "id": "7fdc76bd-c34a-4f4c-a259-1b7a6c496e83",
   "metadata": {
    "tags": []
   },
   "source": [
    "#### Get only the boreal tile nums that coincide with the boreal extent"
   ]
  },
  {
   "cell_type": "code",
   "execution_count": 13,
   "id": "66332752-92e8-4a2a-90ba-80ed667c9729",
   "metadata": {
    "tags": []
   },
   "outputs": [
    {
     "data": {
      "text/html": [
       "3015"
      ],
      "text/latex": [
       "3015"
      ],
      "text/markdown": [
       "3015"
      ],
      "text/plain": [
       "[1] 3015"
      ]
     },
     "metadata": {},
     "output_type": "display_data"
    }
   ],
   "source": [
    "boreal_tile_num_list = boreal_tiles_clip %>% as.data.frame() %>% dplyr::select(tile_num) %>% as.list()\n",
    "boreal_tile_num_list = unlist(boreal_tile_num_list[[1]])\n",
    "length(boreal_tile_num_list)"
   ]
  },
  {
   "cell_type": "code",
   "execution_count": 14,
   "id": "5e6f57a5-37c5-46bf-b0cf-240cc67ad396",
   "metadata": {
    "tags": []
   },
   "outputs": [
    {
     "data": {
      "text/html": [
       "3015"
      ],
      "text/latex": [
       "3015"
      ],
      "text/markdown": [
       "3015"
      ],
      "text/plain": [
       "[1] 3015"
      ]
     },
     "metadata": {},
     "output_type": "display_data"
    }
   ],
   "source": [
    "boreal_tile_num_list = boreal_tiles_clip %>% as.data.frame() %>% dplyr::select(tile_num) %>% as.list()\n",
    "boreal_tile_num_list = unlist(boreal_tile_num_list[[1]])\n",
    "length(boreal_tile_num_list)"
   ]
  },
  {
   "cell_type": "code",
   "execution_count": 15,
   "id": "b417ca9b-0be1-4ade-92f1-443fd6cccded",
   "metadata": {
    "tags": []
   },
   "outputs": [
    {
     "data": {
      "text/html": [
       "1032"
      ],
      "text/latex": [
       "1032"
      ],
      "text/markdown": [
       "1032"
      ],
      "text/plain": [
       "[1] 1032"
      ]
     },
     "metadata": {},
     "output_type": "display_data"
    }
   ],
   "source": [
    "boreal_tile_num_list_NA = boreal_tiles_clip_NA %>% as.data.frame() %>% dplyr::select(tile_num) %>% as.list()\n",
    "boreal_tile_num_list_NA = unlist(boreal_tile_num_list_NA[[1]])\n",
    "length(boreal_tile_num_list_NA)"
   ]
  },
  {
   "cell_type": "code",
   "execution_count": 16,
   "id": "3e171a4e-94ec-4f93-be09-d95772745386",
   "metadata": {
    "tags": []
   },
   "outputs": [
    {
     "data": {
      "text/html": [
       "1983"
      ],
      "text/latex": [
       "1983"
      ],
      "text/markdown": [
       "1983"
      ],
      "text/plain": [
       "[1] 1983"
      ]
     },
     "metadata": {},
     "output_type": "display_data"
    }
   ],
   "source": [
    "boreal_tile_num_list_PA = boreal_tiles_clip_PA %>% as.data.frame() %>% dplyr::select(tile_num) %>% as.list()\n",
    "boreal_tile_num_list_PA = unlist(boreal_tile_num_list_PA[[1]])\n",
    "length(boreal_tile_num_list_PA)"
   ]
  },
  {
   "cell_type": "code",
   "execution_count": 17,
   "id": "6e3af621-c6c6-4210-878f-317679223fe0",
   "metadata": {
    "tags": []
   },
   "outputs": [],
   "source": [
    "ext = extent(-180,180,40,90)"
   ]
  },
  {
   "cell_type": "code",
   "execution_count": 18,
   "id": "841a9de7-310e-4767-a7f4-e67bc61e6887",
   "metadata": {
    "tags": []
   },
   "outputs": [],
   "source": [
    "#boreal_tiles_gcs = shp_fort_join(boreal_tile_index_path, ext, REPROJECT=TRUE)"
   ]
  },
  {
   "cell_type": "code",
   "execution_count": 19,
   "id": "minor-wallet",
   "metadata": {
    "tags": []
   },
   "outputs": [],
   "source": [
    "Sys.setenv(\"AWS_DEFAULT_REGION\" = \"us-west-2\") \n",
    "\n",
    "# # SPRING 2022 version\n",
    "# ATL08_filt = read.csv(\"/projects/shared-buckets/nathanmthomas/DPS_tile_lists/07/ATL08_filt_tindex_master.csv\")\n",
    "# # FALL 2022 version using atl03 rh metrics (does not include ground photons in calc of RH metrics)\n",
    "# Atl08_filt = read.csv(\"/projects/shared-buckets/lduncanson/DPS_tile_lists/fall2022/with_atl03_rh/ATL08_filt_tindex_master.csv\")\n",
    "\n",
    "# FALL 2022 version used for final map\n",
    "#Atl08_filt = read.csv(\"/projects/shared-buckets/lduncanson/DPS_tile_lists/fall2022/ATL08_filt_tindex_master.csv\")\n",
    "\n",
    "# Read the tindex from s3\n",
    "Atl08_filt <- aws.s3::s3read_using(read.csv, object = ATL08_filt_tindex_master_fn)"
   ]
  },
  {
   "cell_type": "markdown",
   "id": "bb95fe58-caae-43cd-b1e4-5a7f3d15fcb7",
   "metadata": {
    "tags": []
   },
   "source": [
    "## Get boreal ATL08 tiles\n",
    "Read ATL08, filter ATL08 file list CSV by boreal tile nums"
   ]
  },
  {
   "cell_type": "code",
   "execution_count": 20,
   "id": "50e40bfa-033a-4bc5-9e35-bd05abf35061",
   "metadata": {
    "tags": []
   },
   "outputs": [
    {
     "data": {
      "text/html": [
       "<style>\n",
       ".list-inline {list-style: none; margin:0; padding: 0}\n",
       ".list-inline>li {display: inline-block}\n",
       ".list-inline>li:not(:last-child)::after {content: \"\\00b7\"; padding: 0 .5ex}\n",
       "</style>\n",
       "<ol class=list-inline><li>4880</li><li>6</li></ol>\n"
      ],
      "text/latex": [
       "\\begin{enumerate*}\n",
       "\\item 4880\n",
       "\\item 6\n",
       "\\end{enumerate*}\n"
      ],
      "text/markdown": [
       "1. 4880\n",
       "2. 6\n",
       "\n",
       "\n"
      ],
      "text/plain": [
       "[1] 4880    6"
      ]
     },
     "metadata": {},
     "output_type": "display_data"
    }
   ],
   "source": [
    "dim(Atl08_filt)"
   ]
  },
  {
   "cell_type": "code",
   "execution_count": 21,
   "id": "6f08c5cc-95ff-497c-9908-68f92ae000c8",
   "metadata": {
    "tags": []
   },
   "outputs": [
    {
     "name": "stdout",
     "output_type": "stream",
     "text": [
      "[1] \"# filtered ATL08 tiles: 4880\"\n",
      "[1] \"# filtered ATL08 tiles in boreal extent: 2991\"\n",
      "[1] \"# filtered ATL08 tiles in boreal NA extent: 1022\"\n",
      "[1] \"# filtered ATL08 tiles in boreal PA extent: 1969\"\n"
     ]
    }
   ],
   "source": [
    "files_allATL08 = Atl08_filt\n",
    "print(paste0('# filtered ATL08 tiles: ', nrow(Atl08_filt)) )\n",
    "\n",
    "files_boreal = Atl08_filt %>% dplyr::filter(tile_num %in% boreal_tile_num_list)\n",
    "print(paste0('# filtered ATL08 tiles in boreal extent: ', nrow(files_boreal)) )\n",
    "\n",
    "files_boreal_NA = Atl08_filt %>% dplyr::filter(tile_num %in% boreal_tile_num_list_NA)\n",
    "print(paste0('# filtered ATL08 tiles in boreal NA extent: ', nrow(files_boreal_NA)) )\n",
    "\n",
    "files_boreal_PA = Atl08_filt %>% dplyr::filter(tile_num %in% boreal_tile_num_list_PA)\n",
    "print(paste0('# filtered ATL08 tiles in boreal PA extent: ', nrow(files_boreal_PA)) )"
   ]
  },
  {
   "cell_type": "markdown",
   "id": "a0abc654-e330-4150-b43f-bd2769b2b876",
   "metadata": {},
   "source": [
    "## Read ATL08 obs (filtered) and APPLY AGB model\n",
    "#### `Filtered`: Read in our set of ATL08 filt CSV tiles (where the tiles have been clipped to the boreal domain), and clip the observations to the boreal domain  \n",
    "For boreal tiles"
   ]
  },
  {
   "cell_type": "code",
   "execution_count": 22,
   "id": "83f4f89c-539d-4d36-bcd6-017893deb5ea",
   "metadata": {
    "tags": []
   },
   "outputs": [],
   "source": [
    "s3read_and_get_tilenum <- function(x){\n",
    "    # Read table and make column with tile_num\n",
    "    df = aws.s3::s3read_using(fread, object = x)\n",
    "    # Use filename to get tile\n",
    "    fn_stem = tools::file_path_sans_ext(x)\n",
    "    list_fn_stem = strsplit(basename(fn_stem), '_')[[1]]\n",
    "    tile_num = list_fn_stem[length(list_fn_stem)] #<- tile num in filename is in the last position of the list\n",
    "    #print(tile_num)\n",
    "    df$tile_num = tile_num\n",
    "    return(df)\n",
    "}"
   ]
  },
  {
   "cell_type": "markdown",
   "id": "23676fb6-c36b-477b-bf96-93189a6ecffa",
   "metadata": {},
   "source": [
    "# Build a final boreal ATL08 AGB obs data frame  \n",
    "use tiles in boreal extent only\n",
    "clip obs\n",
    "Calc AGB for ATL08 obs clipped to boreal extent"
   ]
  },
  {
   "cell_type": "code",
   "execution_count": 23,
   "id": "28833f8f-8894-47dc-9911-92b922d1fa9b",
   "metadata": {
    "tags": []
   },
   "outputs": [],
   "source": [
    "CLIP_TO_A_DOMAIN = FALSE\n",
    "REALM_STR = 'circumboreal' #'NA' #'PA' # "
   ]
  },
  {
   "cell_type": "code",
   "execution_count": 24,
   "id": "8d673dbc-fe09-4f86-b574-bae573a8114b",
   "metadata": {
    "tags": []
   },
   "outputs": [
    {
     "data": {
      "text/html": [
       "'20231122'"
      ],
      "text/latex": [
       "'20231122'"
      ],
      "text/markdown": [
       "'20231122'"
      ],
      "text/plain": [
       "[1] \"20231122\""
      ]
     },
     "metadata": {},
     "output_type": "display_data"
    }
   ],
   "source": [
    "nowdate = format(Sys.time(), '%Y%m%d')\n",
    "nowdate"
   ]
  },
  {
   "cell_type": "code",
   "execution_count": 25,
   "id": "2c76cc33-7b16-4bc3-9952-2d6863ff1cae",
   "metadata": {
    "tags": []
   },
   "outputs": [
    {
     "data": {
      "image/png": "[encoded data removed]",
      "text/plain": [
       "plot without title"
      ]
     },
     "metadata": {
      "image/png": {
       "height": 420,
       "width": 420
      }
     },
     "output_type": "display_data"
    }
   ],
   "source": [
    "ggplot(boreal_tiles) + geom_sf()"
   ]
  },
  {
   "cell_type": "code",
   "execution_count": 26,
   "id": "62034c74-5e9a-48ae-b61a-d5a641984204",
   "metadata": {
    "tags": []
   },
   "outputs": [
    {
     "data": {
      "text/html": [
       "'/projects/my-public-bucket/boreal_ATL08_AGB/tables/atl08_agb_all_filt__20231122.gpkg'"
      ],
      "text/latex": [
       "'/projects/my-public-bucket/boreal\\_ATL08\\_AGB/tables/atl08\\_agb\\_all\\_filt\\_\\_20231122.gpkg'"
      ],
      "text/markdown": [
       "'/projects/my-public-bucket/boreal_ATL08_AGB/tables/atl08_agb_all_filt__20231122.gpkg'"
      ],
      "text/plain": [
       "[1] \"/projects/my-public-bucket/boreal_ATL08_AGB/tables/atl08_agb_all_filt__20231122.gpkg\""
      ]
     },
     "metadata": {},
     "output_type": "display_data"
    }
   ],
   "source": [
    "if(CLIP_TO_A_DOMAIN){\n",
    "    DOMAIN_STR = 'boreal_clip'\n",
    "    if(REALM_STR == 'circumboreal'){\n",
    "        DOMAIN_INTERSECTION_EXTENT = boreal\n",
    "        files_domain = files_boreal\n",
    "    }else{\n",
    "        DOMAIN_INTERSECTION_EXTENT = boreal %>% dplyr::select(REALM)\n",
    "        if(REALM_STR == 'NA'){files_domain = files_boreal_NA}else{files_domain = files_boreal_PA}\n",
    "    }\n",
    "}else{\n",
    "    DOMAIN_STR = 'all_filt'\n",
    "    REALM_STR = ''\n",
    "    DOMAIN_INTERSECTION_EXTENT = boreal_tiles\n",
    "    files_domain = files_allATL08\n",
    "    }\n",
    "    \n",
    "atl08_feather_fn =    paste0(OUTDIR,'/tables/atl08_agb_',DOMAIN_STR,'_',REALM_STR,'_',nowdate,'.feather')\n",
    "atl08_flatgeobuf_fn = paste0(OUTDIR,'/tables/atl08_agb_',DOMAIN_STR,'_',REALM_STR,'_',nowdate,'.fgb')\n",
    "atl08_gpkg_fn =       paste0(OUTDIR,'/tables/atl08_agb_',DOMAIN_STR,'_',REALM_STR,'_',nowdate,'.gpkg')\n",
    "\n",
    "atl08_gpkg_fn"
   ]
  },
  {
   "cell_type": "code",
   "execution_count": 27,
   "id": "2fc425ad-74a1-4a0a-b328-c0c038b1425a",
   "metadata": {
    "tags": []
   },
   "outputs": [],
   "source": [
    "TEST = FALSE"
   ]
  },
  {
   "cell_type": "code",
   "execution_count": 28,
   "id": "f89eeac2-6a6f-4968-a0fb-028521bfa901",
   "metadata": {
    "tags": []
   },
   "outputs": [],
   "source": [
    "if(TEST){\n",
    "    atl08_test = st_intersection(st_as_sf(\n",
    "                                    do.call(rbind, lapply(\n",
    "                                                        head(files_domain, 2)$s3_path, #<-- for testing\n",
    "                                                        function(x) s3read_and_get_tilenum(x)\n",
    "                                                        )\n",
    "                                           ) %>% dplyr::select(ATL08_cols_list),\n",
    "                                    coords = c('lon', 'lat') , remove = FALSE, crs = crs_wgs84\n",
    "                                    ), \n",
    "                            DOMAIN_INTERSECTION_EXTENT\n",
    "                            ) %>%\n",
    "                            as.data.frame() %>%\n",
    "                            dplyr::rename_at(vars(c(ATL08_cols_list), 'REALM'), ~ ATL08_NAMES_FOR_RDS)\n",
    "                            #dplyr::select(ATL08_cols_list, REALM)\n",
    "    # Calculate AGB_mean and AGB_se for each ATL08 obs\n",
    "    #names(atl08_test) = ATL08_NAMES_FOR_RDS\n",
    "    #atl08_test = GEDI2AT08AGB_v2(models_list, models_id_list, atl08_test , COLS_LIST = ATL08_NAMES_FOR_RDS, RESAMP_COVAR_MAT=TRUE, RESAMP_ITER=2)\n",
    "\n",
    "    atl08_test$seg_landcov = factor(atl08_test$seg_landcov, levels=class_values , labels=class_names)\n",
    "    #st_write(atl08_test, atl08_flatgeobuf_fn, driver='FlatGeoBuf') \n",
    "    tail(atl08_test)\n",
    "    }"
   ]
  },
  {
   "cell_type": "markdown",
   "id": "f67159b4-9e30-4914-bf96-b6671bbb9f8a",
   "metadata": {},
   "source": [
    "## Return the data frame of ATL08 AGB obs  \n",
    "columns: \n",
    "`tile_num, seg_landcov, lon, lat, RH_25, RH_50, RH_60, RH_70, RH_75, RH_802, RH_90, RH_98, REALM, DOY, YEAR, AGB_model_id, AGB_mean_mg_ha, AGB_se_mg_ha`  \n",
    "\n",
    "Resampling covariance matrix `50` times"
   ]
  },
  {
   "cell_type": "code",
   "execution_count": 29,
   "id": "bc58e566-ac14-42ff-9538-7d6f8fea0d91",
   "metadata": {
    "tags": []
   },
   "outputs": [
    {
     "name": "stdout",
     "output_type": "stream",
     "text": [
      "[1] \"Realm: \"\n",
      "[1] \"Domain: all_filt\"\n"
     ]
    },
    {
     "data": {
      "text/html": [
       "4880"
      ],
      "text/latex": [
       "4880"
      ],
      "text/markdown": [
       "4880"
      ],
      "text/plain": [
       "[1] 4880"
      ]
     },
     "metadata": {},
     "output_type": "display_data"
    }
   ],
   "source": [
    "print(paste0('Realm: ',REALM_STR))\n",
    "print(paste0('Domain: ',DOMAIN_STR))\n",
    "nrow(files_domain)"
   ]
  },
  {
   "cell_type": "code",
   "execution_count": null,
   "id": "42a2a28d-01c6-4099-b85b-7e5732333577",
   "metadata": {
    "tags": []
   },
   "outputs": [],
   "source": [
    "if(TRUE){\n",
    "    print(paste0('Realm: ',REALM_STR))\n",
    "\n",
    "#     atl08 = do.call(rbind, lapply(\n",
    "#                 files_boreal$s3_path, \n",
    "#                 #head(files_boreal, 100)$s3_path), #<-- for testing\n",
    "#                 function(x) s3read_and_get_tilenum(x)\n",
    "#                 )) %>% dplyr::select(ATL08_cols_list)\n",
    "    \n",
    "    atl08 = st_intersection(st_as_sf(\n",
    "                                do.call(rbind, lapply(\n",
    "                                    #files_domain$s3_path, \n",
    "                                    head(files_domain, 5)$s3_path, #<-- for testing\n",
    "                                    #files_boreal[which(files_boreal$tile_num ==1920),]$s3_path,\n",
    "                                    function(x) s3read_and_get_tilenum(x)\n",
    "                                        )\n",
    "                                       ) %>% dplyr::select(all_of(ATL08_cols_list)),\n",
    "                                coords = c('lon', 'lat') , \n",
    "                                remove = FALSE,\n",
    "                                crs = crs_wgs84\n",
    "                                #crs = st_crs(4326) # NSIDC QA update\n",
    "                                    ), \n",
    "                        DOMAIN_INTERSECTION_EXTENT\n",
    "                        ) %>%\n",
    "                        dplyr::rename_at(vars(c(ATL08_cols_list), 'REALM'), ~ ATL08_NAMES_FOR_RDS) #%>%\n",
    "                        #dplyr::select(ATL08_cols_list, REALM)\n",
    "    #\n",
    "    # Calculate AGB_mean and AGB_se for each ATL08 obs    \n",
    "    #\n",
    "    atl08 = GEDI2AT08AGB_v2(models_list, models_id_list, atl08 , COLS_LIST = ATL08_NAMES_FOR_RDS, RESAMP_COVAR_MAT=TRUE, RESAMP_ITER=50)\n",
    "    \n",
    "    # Return as sf :  GEDI2AT08AGB_v2() removes geometry...\n",
    "    atl08 = st_as_sf(atl08, coords = c('lon', 'lat') , remove = FALSE, crs = crs_wgs84)\n",
    "    \n",
    "    # Clean land cover class names\n",
    "    atl08$seg_landcov = factor(atl08$seg_landcov, levels=class_values , labels=class_names)\n",
    "    \n",
    "    # Write file\n",
    "    #st_write(atl08, atl08_flatgeobuf_fn, driver='FlatGeoBuf') \n",
    "    st_write(atl08, atl08_gpkg_fn)\n",
    "    \n",
    "    # Write a new feather dataset of boreal-filtered ATL08 RH metrics, AGB_mean, & AGB_se for all boreal tiles \n",
    "    #write_feather(atl08, path = atl08_feather_fn)\n",
    "    \n",
    "}else{\n",
    "    #atl08 = read_feather(atl08_feather_fn)\n",
    "    #atl08 = st_read(atl08_flatgeobuf_fn)\n",
    "    atl08 = st_read(atl08_gpkg_fn)\n",
    "}\n",
    "#print(paste0('Total filtered ATL08 obs for ', dim(files_boreal)[1],' tiles of boreal domain: ', dim(atl08)[1]))\n",
    "print(paste0('Total filtered ATL08 obs for with AGB in boreal domain: ', dim(atl08)[1]))\n",
    "\n",
    "head(atl08%>% as.data.frame() )"
   ]
  },
  {
   "cell_type": "code",
   "execution_count": null,
   "id": "7b107f96-fb85-4e1b-83ba-a4aa87d82cbc",
   "metadata": {
    "tags": []
   },
   "outputs": [],
   "source": [
    "ggplot(atl08) + geom_histogram(aes(DOY))"
   ]
  },
  {
   "cell_type": "code",
   "execution_count": null,
   "id": "8e8b3597-9954-4bd9-a6e0-057060157ccc",
   "metadata": {
    "tags": []
   },
   "outputs": [],
   "source": [
    "ggplot(sample_frac(atl08, size=0.0001)) + geom_sf(aes(color=AGB_mean_mg_ha)) + scale_color_viridis()"
   ]
  },
  {
   "cell_type": "code",
   "execution_count": 71,
   "id": "0db0cd5d-51aa-4af6-8e0c-82d7575811c9",
   "metadata": {
    "tags": []
   },
   "outputs": [],
   "source": [
    "rm(atl08)"
   ]
  }
 ],
 "metadata": {
  "kernelspec": {
   "display_name": "/projects/env/above",
   "language": "python",
   "name": "python3"
  },
  "language_info": {
   "codemirror_mode": {
    "name": "ipython",
    "version": 3
   },
   "file_extension": ".py",
   "mimetype": "text/x-python",
   "name": "python",
   "nbconvert_exporter": "python",
   "pygments_lexer": "ipython3",
   "version": "3.9.18"
  }
 },
 "nbformat": 4,
 "nbformat_minor": 5
}

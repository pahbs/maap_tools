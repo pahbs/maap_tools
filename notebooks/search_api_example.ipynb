{
 "cells": [
  {
   "cell_type": "markdown",
   "id": "bfce2974-9632-4c23-aa00-f24aeacc4610",
   "metadata": {},
   "source": [
    "# Example API search for Landsat TM and HLS data\n",
    "\n",
    "#### Using 2 separate STAC api urls"
   ]
  },
  {
   "cell_type": "markdown",
   "id": "95d0bb78-b40d-492b-aed4-c6f1c2b8f8be",
   "metadata": {},
   "source": [
    "#### API for HLS\n",
    "https://lpdaac.usgs.gov/products/hlss30v002/"
   ]
  },
  {
   "cell_type": "code",
   "execution_count": null,
   "id": "d1349393-06e9-4a0c-b5ab-d44dfa3614e6",
   "metadata": {},
   "outputs": [],
   "source": [
    "hls_api_url = 'https://cmr.earthdata.nasa.gov/stac/LPCLOUD'"
   ]
  },
  {
   "cell_type": "markdown",
   "id": "db062bff-dc17-4842-b745-ace552acd3a1",
   "metadata": {},
   "source": [
    "#### API for USGS LandsatLook\n",
    "https://landsatlook.usgs.gov/"
   ]
  },
  {
   "cell_type": "code",
   "execution_count": 5,
   "id": "cf2f956c-5c72-4040-918a-c86706a4c19d",
   "metadata": {
    "tags": []
   },
   "outputs": [],
   "source": [
    "#landsat_api_url = \"https://landsatlook.usgs.gov/sat-api\" # old one\n",
    "landsat_api_url = \"https://landsatlook.usgs.gov/stac-server\""
   ]
  },
  {
   "cell_type": "markdown",
   "id": "48c8d541-1844-4176-9aea-3cdc9bdafff2",
   "metadata": {},
   "source": [
    "#### Use this example update `query_stac()` in `fetch_HLS.py`"
   ]
  },
  {
   "cell_type": "code",
   "execution_count": 78,
   "id": "b93d5024-66b1-43ad-a0c8-568e1a7156cc",
   "metadata": {
    "tags": []
   },
   "outputs": [],
   "source": [
    "sat_api_url = landsat_api_url"
   ]
  },
  {
   "cell_type": "code",
   "execution_count": 77,
   "id": "b257e020-5520-48a9-adb1-66d10baacf7a",
   "metadata": {
    "tags": []
   },
   "outputs": [
    {
     "data": {
      "text/plain": [
       "'0.6.1'"
      ]
     },
     "execution_count": 77,
     "metadata": {},
     "output_type": "execute_result"
    }
   ],
   "source": [
    "import pystac_client\n",
    "pystac_client.__version__"
   ]
  },
  {
   "cell_type": "code",
   "execution_count": 7,
   "id": "b3eb7f08-a5cb-42cb-9036-4eadcef2f982",
   "metadata": {
    "tags": []
   },
   "outputs": [
    {
     "name": "stdout",
     "output_type": "stream",
     "text": [
      "<CollectionClient id=landsat-c2l2-sr>\n",
      "<CollectionClient id=landsat-c2l2-st>\n",
      "<CollectionClient id=landsat-c2ard-st>\n",
      "<CollectionClient id=landsat-c2l2alb-bt>\n",
      "<CollectionClient id=landsat-c2l3-fsca>\n",
      "<CollectionClient id=landsat-c2ard-bt>\n",
      "<CollectionClient id=landsat-c2l1>\n",
      "<CollectionClient id=landsat-c2l3-ba>\n",
      "<CollectionClient id=landsat-c2l2alb-st>\n",
      "<CollectionClient id=landsat-c2ard-sr>\n",
      "<CollectionClient id=landsat-c2l2alb-sr>\n",
      "<CollectionClient id=landsat-c2l2alb-ta>\n",
      "<CollectionClient id=landsat-c2l3-dswe>\n",
      "<CollectionClient id=landsat-c2ard-ta>\n",
      "<Item id=LT05_L2SP_038037_20120505_20200820_02_T1_SR>\n",
      "<Item id=LT05_L2SP_031036_20120504_20200820_02_T1_SR>\n",
      "<Item id=LT05_L2SP_031035_20120504_20200820_02_T1_SR>\n",
      "<Item id=LT05_L2SP_031034_20120504_20200820_02_T1_SR>\n",
      "<Item id=LT05_L2SP_031033_20120504_20200820_02_T1_SR>\n",
      "<Item id=LT05_L2SP_039038_20120426_20200820_02_T1_SR>\n",
      "<Item id=LT05_L2SP_039037_20120426_20200820_02_T1_SR>\n",
      "<Item id=LT05_L2SP_039036_20120426_20200820_02_T1_SR>\n",
      "<Item id=LT05_L2SP_039035_20120426_20200820_02_T1_SR>\n",
      "<Item id=LT05_L2SP_039034_20120426_20200820_02_T1_SR>\n"
     ]
    }
   ],
   "source": [
    "from pystac_client import Client\n",
    "\n",
    "cat = Client.open(sat_api_url)\n",
    "\n",
    "for collection in cat.get_all_collections():\n",
    "    print(collection)\n",
    "#... take the collection name and use below\n",
    "\n",
    "# Filter by platform\n",
    "query = {\n",
    "    #\"platform\": {\"eq\": \"LANDSAT_4\"}\n",
    "    \"platform\": {\"eq\": \"LANDSAT_5\"}\n",
    "    #\"platform\": {\"eq\": \"LANDSAT_7\"}\n",
    "    #\"platform\": {\"eq\": \"LANDSAT_8\"}\n",
    "    #\"platform\": {\"eq\": \"LANDSAT_9\"}\n",
    "}\n",
    "\n",
    "# can also add bbox, and datetime ranges here\n",
    "results = cat.search(\n",
    "    collections='landsat-c2l2-sr',\n",
    "    max_items=10,\n",
    "    query=query\n",
    ")\n",
    "\n",
    "for item in results.items():\n",
    "    print(item)"
   ]
  },
  {
   "cell_type": "code",
   "execution_count": null,
   "id": "860217cc-7c26-491d-b005-dc8499ab7121",
   "metadata": {
    "tags": []
   },
   "outputs": [],
   "source": [
    "#item"
   ]
  },
  {
   "cell_type": "markdown",
   "id": "8cc75c54-52e3-4b5e-9972-5b714e1102f7",
   "metadata": {
    "tags": []
   },
   "source": [
    "### Search MAAP"
   ]
  },
  {
   "cell_type": "code",
   "execution_count": 9,
   "id": "a5a2f9df-2139-4bdc-ad1a-4ed315147cdb",
   "metadata": {
    "tags": []
   },
   "outputs": [],
   "source": [
    "# import the MAAP package\n",
    "from maap.maap import MAAP\n",
    "\n",
    "# import printing package to help display outputs\n",
    "from pprint import pprint\n",
    "\n",
    "# invoke the MAAP constructor using the maap_host argument\n",
    "maap = MAAP(maap_host='api.maap-project.org')"
   ]
  },
  {
   "cell_type": "code",
   "execution_count": 10,
   "id": "7993d17f-a103-41fe-8cea-a76737e28e56",
   "metadata": {
    "tags": []
   },
   "outputs": [],
   "source": [
    "MAX_RESULTS = 500"
   ]
  },
  {
   "cell_type": "code",
   "execution_count": 11,
   "id": "771d51d5-035d-437f-bd18-8a496292aec1",
   "metadata": {
    "tags": []
   },
   "outputs": [
    {
     "data": {
      "text/plain": [
       "5000"
      ]
     },
     "execution_count": 11,
     "metadata": {},
     "output_type": "execute_result"
    }
   ],
   "source": [
    "collections = maap.searchCollection(\n",
    "    #short_name='LC01_Landsat_1187',\n",
    "    #version='006',\n",
    "    cmr_host='cmr.earthdata.nasa.gov',\n",
    "    cloud_hosted=\"true\",\n",
    "    limit=5000\n",
    ")\n",
    "len(collections)"
   ]
  },
  {
   "cell_type": "code",
   "execution_count": 12,
   "id": "4df9f018-d310-4a15-8cdd-bc284e2dc162",
   "metadata": {
    "tags": []
   },
   "outputs": [
    {
     "name": "stdout",
     "output_type": "stream",
     "text": [
      "CD34_Amazon_Landsat_1176\n",
      "CD37_Biomass_Landsat_Glas_1145\n",
      "LC01_Landsat_1187\n",
      "LC09_Landsat_987\n",
      "LC10_Landsat_TM_852\n",
      "LC10_Landsat_ETM_846\n",
      "LC35_Landsat7_Fire_Masks_1071\n",
      "ND02_Landsat_TM_MSS_Para_1156\n",
      "Landsat8_Sentinel2_Phenocam_2248\n"
     ]
    },
    {
     "data": {
      "text/plain": [
       "[None, None, None, None, None, None, None, None, None]"
      ]
     },
     "execution_count": 12,
     "metadata": {},
     "output_type": "execute_result"
    }
   ],
   "source": [
    "[print(collections[i]['Collection']['ShortName']) for i in range(0,len(collections)) if 'Landsat' in collections[i]['Collection']['ShortName']]"
   ]
  },
  {
   "cell_type": "markdown",
   "id": "23d30f85-37f3-4ec2-8c48-6d20af768613",
   "metadata": {},
   "source": [
    "#### The ABoVE Boreal AGB c2020 data"
   ]
  },
  {
   "cell_type": "code",
   "execution_count": 117,
   "id": "74559ee1-6c57-47d9-8c3d-adfa9c9c06db",
   "metadata": {
    "tags": []
   },
   "outputs": [
    {
     "name": "stdout",
     "output_type": "stream",
     "text": [
      "Boreal_AGB_Density_ICESat2_2186\n"
     ]
    },
    {
     "data": {
      "text/plain": [
       "[None]"
      ]
     },
     "execution_count": 117,
     "metadata": {},
     "output_type": "execute_result"
    }
   ],
   "source": [
    "[print(collections[i]['Collection']['ShortName']) for i in range(0,len(collections)) if 'ICESat' in collections[i]['Collection']['ShortName']]"
   ]
  },
  {
   "cell_type": "code",
   "execution_count": 16,
   "id": "39be7b00-b581-4dd9-9609-cd9f1bf1989f",
   "metadata": {
    "tags": []
   },
   "outputs": [],
   "source": [
    "import requests\n",
    "import datetime\n",
    "import geopandas as gpd\n",
    "import json\n",
    "import os\n",
    "import numpy as np\n",
    "import rasterio as rio\n",
    "from rasterio.warp import *\n",
    "#from CovariateUtils import get_index_tile, get_creds\n",
    "import itertools\n",
    "import botocore\n",
    "import boto3"
   ]
  },
  {
   "cell_type": "markdown",
   "id": "494837b1-1d3f-41b6-987b-3b009e2be71f",
   "metadata": {},
   "source": [
    "# TODO: update 3.1.2_dps.py with new LANDSAT 4/5/7 functionality\n",
    "### This will allow us to build composites of Landsat back to 1984\n",
    "Need to think about:  \n",
    "a.  band names are different in the Landsat Collection 2 SR dataset `('blue', 'green', 'red', 'nir08', 'swir16', 'swir22')`  \n",
    "b. `HLS_product` variable name should be changed  \n",
    "c. create `get_LANDSAT_data()` inside `fetch_LANDSAT.py`"
   ]
  },
  {
   "cell_type": "markdown",
   "id": "c03aaef8-7b65-43bc-920b-c5e1ca334bdb",
   "metadata": {},
   "source": [
    "### Update and test this function before - put this into `fetch_LANDSAT.py`"
   ]
  },
  {
   "cell_type": "code",
   "execution_count": 74,
   "id": "dc07f378-c1f5-4201-892b-98f1e04a2c5c",
   "metadata": {
    "tags": []
   },
   "outputs": [],
   "source": [
    "def query_stac(year, bbox, max_cloud, api, start_month_day, end_month_day, MS_product='L30', MS_product_version='2.0', MAX_N_RESULTS=500):\n",
    "    \n",
    "    print('\\nQuerying STAC for multispectral imagery...')\n",
    "    catalog = Client.open(api)\n",
    "    \n",
    "    date_min = str(year) + '-' + start_month_day\n",
    "\n",
    "    date_max = str(year) + '-' + end_month_day\n",
    "    start_date = datetime.datetime.strptime(date_min, \"%Y-%m-%d\")\n",
    "    end_date = datetime.datetime.strptime(date_max, \"%Y-%m-%d\") \n",
    "    start = start_date.strftime(\"%Y-%m-%dT00:00:00Z\")\n",
    "    end = end_date.strftime(\"%Y-%m-%dT23:59:59Z\")\n",
    "    \n",
    "    print('start date, end date:\\t\\t', start, end)\n",
    "    \n",
    "    # Note: H30 this is our name for a HARMONIZED 30m composite with S30 and L30\n",
    "    if MS_product == 'L30' or MS_product == 'S30':\n",
    "        MS_product_list = [f\"HLS{MS_product}.v{MS_product_version}\"]\n",
    "    if MS_product == 'H30':\n",
    "        MS_product_list = [f\"HLSL30.v{MS_product_version}\", f\"HLSS30.v{MS_product_version}\"]\n",
    "    if MS_product == 'landsat-c2l2-sr':\n",
    "        MS_product_list = [MS_product]\n",
    "        \n",
    "    print(f'\\nConducting multispectral image search now...')\n",
    "    print(f'Searching for:\\t\\t\\t{MS_product_list}')\n",
    "    \n",
    "    search = catalog.search(\n",
    "        collections=MS_product_list,\n",
    "        datetime=[start,end],\n",
    "        bbox=bbox,\n",
    "        limit=MAX_N_RESULTS,\n",
    "        max_items=MAX_N_RESULTS, # for testing, and keep it from hanging\n",
    "        # query={\"eo:cloud_cover\":{\"lt\":20}} #doesn't work\n",
    "    )\n",
    "    results = search.get_all_items_as_dict()\n",
    "    \n",
    "    print(\"initial results:\\t\\t\", len(results['features']))\n",
    "    \n",
    "    filtered_results = []\n",
    "    for i in results['features']:\n",
    "        if int(i['properties']['eo:cloud_cover']) <= max_cloud:\n",
    "            filtered_results.append(i)\n",
    "    \n",
    "    results['features'] = filtered_results\n",
    "\n",
    "    print(\"filtered results:\\t\\t\", len(results['features']))\n",
    "    print('\\nSearch complete.\\n')\n",
    "    return results\n",
    "\n",
    "def get_LANDSAT_data(in_tile_fn, in_tile_layer, in_tile_id_col, in_tile_num, out_dir, sat_api, start_year, end_year, start_month_day, end_month_day, max_cloud, local=False, hls_product='L30', hls_product_version='2.0'):\n",
    "\n",
    "    # Need a dict that used HLS product to specify band names\n",
    "    HLS_bands_dict = dict({\n",
    "                            'L30':  ['B02', 'B03', 'B04', 'B05', 'B06', 'B07', 'Fmask'], \n",
    "                            'S30':  ['B02', 'B03', 'B04', 'B8A', 'B11', 'B12', 'Fmask'],\n",
    "                            'landsat-c2l2-sr': ['blue', 'green', 'nir08' , 'swir16', 'swir22', 'cloud_qa'] #TODO check if 'cloud_qa' is same format as 'Fmask'\n",
    "                          })\n",
    "    \n",
    "    if hls_product != 'L30' and hls_product != 'S30' and hls_product != 'H30' and hls_product != 'landsat-c2l2-sr':\n",
    "        print(\"Landsat or HLS product type not recognized: Must be landsat-c2l2-sr, L30, S30, or both [H30].\")\n",
    "        os._exit(1)\n",
    "        \n",
    "    geojson_path_albers = in_tile_fn\n",
    "    layer = in_tile_layer\n",
    "    tile_n = int(in_tile_num)\n",
    "    \n",
    "    print('\\nGetting Landsat or HLS data...')\n",
    "    \n",
    "    tile_id = get_index_tile(geojson_path_albers, in_tile_id_col, tile_n, buffer=0, layer = layer)\n",
    "    #print(tile_id)\n",
    "    # Accessing imagery\n",
    "    # Select an area of interest\n",
    "    bbox_list = [tile_id['bbox_4326']]\n",
    "    max_cloud = max_cloud\n",
    "    years = range(int(start_year), int(end_year)+1)\n",
    "    api = sat_api\n",
    "    \n",
    "    #\n",
    "    # Query the STAC\n",
    "    #\n",
    "    for bbox in bbox_list:\n",
    "        # Geojson of total scenes - Change to list of scenes\n",
    "        print(f'bbox: {bbox}')\n",
    "        response_by_year = [query_stac(year, bbox, max_cloud, api, start_month_day, end_month_day, HLS_product=hls_product, HLS_product_version=hls_product_version) for year in years]\n",
    "        \n",
    "        print(len(response_by_year[0]['features']))\n",
    "    \n",
    "    # Take the search over several years, write the geojson response for each\n",
    "    ## TODO: need unique catalog names that indicate bbox tile, and time range used.\n",
    "    save_path = out_dir\n",
    "    if (not os.path.isdir(save_path)): os.mkdir(save_path)\n",
    "\n",
    "    merge_catalogs = {\n",
    "        \"type\": \"FeatureCollection\",\n",
    "        \"features\": list(itertools.chain.from_iterable([f[\"features\"] for f in response_by_year])),\n",
    "    }\n",
    "\n",
    "    \n",
    "    #\n",
    "    # Write local JSON that catalogs the HLS data retrieved from query\n",
    "    #\n",
    "    master_json = os.path.join(save_path, f'master_{tile_n}_{np.min(years)}-{start_month_day}_{np.max(years)}-{end_month_day}_HLS.json')\n",
    "    with open(master_json, 'w') as outfile:\n",
    "            json.dump(merge_catalogs, outfile)\n",
    "\n",
    "    master_json = write_local_data_and_catalog_s3(master_json, HLS_bands_dict, save_path, local, s3_path=\"s3://\")\n",
    "    \n",
    "    return master_json"
   ]
  },
  {
   "cell_type": "markdown",
   "id": "80821ba6-edc6-4cae-8cb6-daf7d52e64bf",
   "metadata": {},
   "source": [
    "### Query Landsat - this works as expected"
   ]
  },
  {
   "cell_type": "code",
   "execution_count": 67,
   "id": "2d7bb317-3bdf-4d63-98fa-e15800e2fcd6",
   "metadata": {
    "tags": []
   },
   "outputs": [
    {
     "name": "stdout",
     "output_type": "stream",
     "text": [
      "\n",
      "Querying STAC for multispectral imagery...\n",
      "start date, end date:\t\t 2013-06-01T00:00:00Z 2013-10-15T23:59:59Z\n",
      "\n",
      "Conducting multispectral image search now...\n",
      "Searching for:\t\t\t['landsat-c2l2-sr']\n",
      "initial results:\t\t 123\n",
      "filtered results:\t\t 123\n",
      "\n",
      "Search complete.\n",
      "\n"
     ]
    }
   ],
   "source": [
    "results_landsat = query_stac(2013, [-122.4969372889167, 59.282959601314104, -120.20175133769581, 60.40424594544261], \n",
    "               100, # max cloud \n",
    "               landsat_api_url, \n",
    "               #hls_api_url,\n",
    "               '06-01', '10-15',\n",
    "              MS_product = 'landsat-c2l2-sr')"
   ]
  },
  {
   "cell_type": "code",
   "execution_count": 68,
   "id": "0178b2d6-6876-40ee-9f99-ba1068cd7898",
   "metadata": {
    "tags": []
   },
   "outputs": [
    {
     "data": {
      "text/plain": [
       "['thumbnail',\n",
       " 'reduced_resolution_browse',\n",
       " 'index',\n",
       " 'MTL.json',\n",
       " 'blue',\n",
       " 'green',\n",
       " 'red',\n",
       " 'nir08',\n",
       " 'swir16',\n",
       " 'swir22',\n",
       " 'atmos_opacity',\n",
       " 'cloud_qa',\n",
       " 'qa_pixel',\n",
       " 'qa_radsat',\n",
       " 'ANG.txt',\n",
       " 'MTL.txt',\n",
       " 'MTL.xml']"
      ]
     },
     "execution_count": 68,
     "metadata": {},
     "output_type": "execute_result"
    }
   ],
   "source": [
    "list(results_landsat.get('features')[0].get('assets').keys())"
   ]
  },
  {
   "cell_type": "code",
   "execution_count": 69,
   "id": "d15b1fe8-f217-4f63-be60-518f81653e76",
   "metadata": {
    "tags": []
   },
   "outputs": [
    {
     "data": {
      "text/plain": [
       "'https://landsatlook.usgs.gov/data/collection02/level-2/standard/etm/2013/048/019/LE07_L2SP_048019_20131013_20200907_02_T1/LE07_L2SP_048019_20131013_20200907_02_T1_SR_B1.TIF'"
      ]
     },
     "execution_count": 69,
     "metadata": {},
     "output_type": "execute_result"
    }
   ],
   "source": [
    "file_href = results_landsat.get('features')[0].get('assets').get('blue').get('href')\n",
    "file_href"
   ]
  },
  {
   "cell_type": "markdown",
   "id": "f3b2550f-3a78-431f-94d8-408e9d8fa230",
   "metadata": {},
   "source": [
    "### Query HLS - being limited to max 100 results"
   ]
  },
  {
   "cell_type": "code",
   "execution_count": 75,
   "id": "38d546cd-565b-463b-a3d8-642fa6f29b4b",
   "metadata": {
    "tags": []
   },
   "outputs": [
    {
     "name": "stdout",
     "output_type": "stream",
     "text": [
      "\n",
      "Querying STAC for multispectral imagery...\n",
      "start date, end date:\t\t 2024-07-01T00:00:00Z 2024-08-31T23:59:59Z\n",
      "\n",
      "Conducting multispectral image search now...\n",
      "Searching for:\t\t\t['HLSL30.v2.0', 'HLSS30.v2.0']\n",
      "initial results:\t\t 100\n",
      "filtered results:\t\t 19\n",
      "\n",
      "Search complete.\n",
      "\n"
     ]
    }
   ],
   "source": [
    "results = query_stac(2024, \n",
    "                     [178.3104249050895, 63.20910529144648, 179.99999, 64.01360592554103], # tile 3916\n",
    "                10, \n",
    "               #landsat_api_url, \n",
    "               hls_api_url,\n",
    "               '07-01', '08-31',\n",
    "                MS_product='H30')"
   ]
  },
  {
   "cell_type": "code",
   "execution_count": 155,
   "id": "ff9883bb-d29a-4c08-83c8-fb9b34ec3b6c",
   "metadata": {
    "tags": []
   },
   "outputs": [
    {
     "data": {
      "text/plain": [
       "'s3://lp-prod-protected/HLSL30.020/HLS.L30.T10VEN.2013205T191211.v2.0/HLS.L30.T10VEN.2013205T191211.v2.0.B04.tif'"
      ]
     },
     "execution_count": 155,
     "metadata": {},
     "output_type": "execute_result"
    }
   ],
   "source": [
    "file_href = results.get('features')[0].get('assets').get('B04').get('href')\n",
    "file_s3 = file_href.replace('https://data.lpdaac.earthdatacloud.nasa.gov/', 's3://')\n",
    "file_s3"
   ]
  },
  {
   "cell_type": "markdown",
   "id": "29fead63-ad57-4ade-bd11-a5ffb6aaba09",
   "metadata": {},
   "source": [
    "# Local test: does an HLS composite run locally"
   ]
  },
  {
   "cell_type": "code",
   "execution_count": 428,
   "id": "2bed4da6-61f8-47fb-a873-c4bad5619e29",
   "metadata": {
    "tags": []
   },
   "outputs": [],
   "source": [
    "#!python /projects/code/icesat2_boreal/lib/3.1.2_dps.py --in_tile_fn /projects/shared-buckets/montesano/databank/boreal_tiles_v004.gpkg --in_tile_num 37149 --in_tile_layer boreal_tiles_v004 --sat_api https://cmr.earthdata.nasa.gov/stac/LPCLOUD --tile_buffer_m 0 --start_year 2021 --end_year 2021 --start_month_day 07-01 --end_month_day 08-31 --max_cloud 50 --composite_type HLS --shape 3000 --hls_product H30 -o /projects/local_output --search_only"
   ]
  },
  {
   "cell_type": "code",
   "execution_count": 460,
   "id": "62b58256-4265-4b9d-bff9-0b05c1079409",
   "metadata": {
    "tags": []
   },
   "outputs": [],
   "source": [
    "DPS_INPUT_TILE_NUM_LIST = [37149, 2422]"
   ]
  },
  {
   "cell_type": "code",
   "execution_count": 65,
   "id": "278a63c1-3c6e-492f-bac6-3739dc829961",
   "metadata": {
    "tags": []
   },
   "outputs": [
    {
     "ename": "NameError",
     "evalue": "name 'SEASON_START' is not defined",
     "output_type": "error",
     "traceback": [
      "\u001b[0;31m---------------------------------------------------------------------------\u001b[0m",
      "\u001b[0;31mNameError\u001b[0m                                 Traceback (most recent call last)",
      "Cell \u001b[0;32mIn[65], line 14\u001b[0m\n\u001b[1;32m      5\u001b[0m YEAR \u001b[38;5;241m=\u001b[39m \u001b[38;5;241m2021\u001b[39m\n\u001b[1;32m      6\u001b[0m MS_DATA_TYPE \u001b[38;5;241m=\u001b[39m \u001b[38;5;124m'\u001b[39m\u001b[38;5;124mHLS\u001b[39m\u001b[38;5;124m'\u001b[39m\n\u001b[1;32m      8\u001b[0m args \u001b[38;5;241m=\u001b[39m \u001b[38;5;124mf\u001b[39m\u001b[38;5;124m\"\u001b[39m\u001b[38;5;124m-i \u001b[39m\u001b[38;5;132;01m{\u001b[39;00mINDEX_FN\u001b[38;5;132;01m}\u001b[39;00m\u001b[38;5;124m \u001b[39m\u001b[38;5;130;01m\\\u001b[39;00m\n\u001b[1;32m      9\u001b[0m \u001b[38;5;124m-lyr \u001b[39m\u001b[38;5;132;01m{\u001b[39;00mINDEX_LYR\u001b[38;5;132;01m}\u001b[39;00m\u001b[38;5;124m \u001b[39m\u001b[38;5;130;01m\\\u001b[39;00m\n\u001b[1;32m     10\u001b[0m \u001b[38;5;124m-a \u001b[39m\u001b[38;5;132;01m{\u001b[39;00mSAT_API\u001b[38;5;132;01m}\u001b[39;00m\u001b[38;5;124m \u001b[39m\u001b[38;5;130;01m\\\u001b[39;00m\n\u001b[1;32m     11\u001b[0m \u001b[38;5;124m--tile_buffer_m 0 \u001b[39m\u001b[38;5;130;01m\\\u001b[39;00m\n\u001b[1;32m     12\u001b[0m \u001b[38;5;124m--in_tile_num \u001b[39m\u001b[38;5;132;01m{\u001b[39;00m\u001b[38;5;241m2422\u001b[39m\u001b[38;5;132;01m}\u001b[39;00m\u001b[38;5;124m \u001b[39m\u001b[38;5;130;01m\\\u001b[39;00m\n\u001b[1;32m     13\u001b[0m \u001b[38;5;124m-o \u001b[39m\u001b[38;5;132;01m{\u001b[39;00mOUTDIR\u001b[38;5;132;01m}\u001b[39;00m\u001b[38;5;124m \u001b[39m\u001b[38;5;130;01m\\\u001b[39;00m\n\u001b[0;32m---> 14\u001b[0m \u001b[38;5;124m-sy \u001b[39m\u001b[38;5;132;01m{\u001b[39;00mYEAR\u001b[38;5;132;01m}\u001b[39;00m\u001b[38;5;124m -ey \u001b[39m\u001b[38;5;132;01m{\u001b[39;00mYEAR\u001b[38;5;132;01m}\u001b[39;00m\u001b[38;5;124m -smd \u001b[39m\u001b[38;5;132;01m{\u001b[39;00m\u001b[43mSEASON_START\u001b[49m\u001b[38;5;132;01m}\u001b[39;00m\u001b[38;5;124m -emd \u001b[39m\u001b[38;5;132;01m{\u001b[39;00mSEASON_STOP\u001b[38;5;132;01m}\u001b[39;00m\u001b[38;5;124m -mc \u001b[39m\u001b[38;5;132;01m{\u001b[39;00m\u001b[38;5;241m10\u001b[39m\u001b[38;5;132;01m}\u001b[39;00m\u001b[38;5;124m \u001b[39m\u001b[38;5;130;01m\\\u001b[39;00m\n\u001b[1;32m     15\u001b[0m \u001b[38;5;124m--composite_type \u001b[39m\u001b[38;5;132;01m{\u001b[39;00mMS_DATA_TYPE\u001b[38;5;132;01m}\u001b[39;00m\u001b[38;5;124m \u001b[39m\u001b[38;5;130;01m\\\u001b[39;00m\n\u001b[1;32m     16\u001b[0m \u001b[38;5;124m--hls_product H30 \u001b[39m\u001b[38;5;130;01m\\\u001b[39;00m\n\u001b[1;32m     17\u001b[0m \u001b[38;5;124m--rangelims_red 0 1 \u001b[39m\u001b[38;5;130;01m\\\u001b[39;00m\n\u001b[1;32m     18\u001b[0m \u001b[38;5;124m--thresh_min_ndvi -1 \u001b[39m\u001b[38;5;130;01m\\\u001b[39;00m\n\u001b[1;32m     19\u001b[0m \u001b[38;5;124m--search_only\u001b[39m\u001b[38;5;124m\"\u001b[39m\n\u001b[1;32m     21\u001b[0m cmd \u001b[38;5;241m=\u001b[39m \u001b[38;5;124mf\u001b[39m\u001b[38;5;124m'\u001b[39m\u001b[38;5;124mpython /projects/code/icesat2_boreal/lib/3.1.2_dps.py \u001b[39m\u001b[38;5;132;01m{\u001b[39;00margs\u001b[38;5;132;01m}\u001b[39;00m\u001b[38;5;124m'\u001b[39m\n\u001b[1;32m     22\u001b[0m get_ipython()\u001b[38;5;241m.\u001b[39msystem(\u001b[38;5;124m'\u001b[39m\u001b[38;5;124mecho $cmd\u001b[39m\u001b[38;5;124m'\u001b[39m)\n",
      "\u001b[0;31mNameError\u001b[0m: name 'SEASON_START' is not defined"
     ]
    }
   ],
   "source": [
    "INDEX_FN =  'https://maap-ops-workspace.s3.amazonaws.com/shared/montesano/databank/boreal_tiles_v004.gpkg'\n",
    "INDEX_LYR = 'boreal_tiles_v004'\n",
    "SAT_API = 'https://cmr.earthdata.nasa.gov/stac/LPCLOUD'\n",
    "OUTDIR = '/projects/my-private-bucket/tmp'\n",
    "YEAR = 2021\n",
    "MS_DATA_TYPE = 'HLS'\n",
    "\n",
    "args = f\"-i {INDEX_FN} \\\n",
    "-lyr {INDEX_LYR} \\\n",
    "-a {SAT_API} \\\n",
    "--tile_buffer_m 0 \\\n",
    "--in_tile_num {2422} \\\n",
    "-o {OUTDIR} \\\n",
    "-sy {YEAR} -ey {YEAR} -smd {SEASON_START} -emd {SEASON_STOP} -mc {10} \\\n",
    "--composite_type {MS_DATA_TYPE} \\\n",
    "--hls_product H30 \\\n",
    "--rangelims_red 0 1 \\\n",
    "--thresh_min_ndvi -1 \\\n",
    "--search_only\"\n",
    "\n",
    "cmd = f'python /projects/code/icesat2_boreal/lib/3.1.2_dps.py {args}'\n",
    "!echo $cmd\n",
    "!eval $cmd\n",
    "#!echo\n",
    "#!eval $cmd"
   ]
  },
  {
   "cell_type": "code",
   "execution_count": null,
   "id": "b566a2b1-6c91-4beb-b779-b2609ab51104",
   "metadata": {},
   "outputs": [],
   "source": []
  }
 ],
 "metadata": {
  "kernelspec": {
   "display_name": "Python 3 (ipykernel)",
   "language": "python",
   "name": "python3"
  },
  "language_info": {
   "codemirror_mode": {
    "name": "ipython",
    "version": 3
   },
   "file_extension": ".py",
   "mimetype": "text/x-python",
   "name": "python",
   "nbconvert_exporter": "python",
   "pygments_lexer": "ipython3",
   "version": "3.10.13"
  }
 },
 "nbformat": 4,
 "nbformat_minor": 5
}

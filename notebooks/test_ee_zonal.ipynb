{
 "cells": [
  {
   "cell_type": "markdown",
   "id": "f41b3f9d-14fa-4d03-a7b8-5a45565c4b44",
   "metadata": {},
   "source": [
    "# Test SoilGrids v2 access through Earth Engine\n",
    "\n",
    "https://git.wur.nl/isric/soilgrids/soilgrids.notebooks/-/blob/master/markdown/access_on_gee.md\n",
    "\n",
    "#### Run zonal stats for SIBBORK sites"
   ]
  },
  {
   "cell_type": "code",
   "execution_count": 153,
   "id": "d807f477-96da-4a9b-96ea-4b093ac86530",
   "metadata": {
    "tags": []
   },
   "outputs": [],
   "source": [
    "import os, sys\n",
    "import ee\n",
    "import geopandas as gpd\n",
    "import pandas as pd"
   ]
  },
  {
   "cell_type": "code",
   "execution_count": null,
   "id": "c177e773-5afc-4f3b-9d60-65e473cc39ba",
   "metadata": {},
   "outputs": [],
   "source": [
    "!pip install geemap"
   ]
  },
  {
   "cell_type": "markdown",
   "id": "cb2c6790-b4c2-47ae-ae22-7fccfeddf592",
   "metadata": {
    "tags": []
   },
   "source": [
    "### Authenticate current access to Google Earth Engine\n",
    "Make a current credentials file; copy it to private bucket; get its s3 path to pass to script "
   ]
  },
  {
   "cell_type": "code",
   "execution_count": null,
   "id": "0479afe6-f8e2-4301-8712-7ae13760676e",
   "metadata": {
    "tags": []
   },
   "outputs": [],
   "source": [
    "ee.Authenticate()"
   ]
  },
  {
   "cell_type": "code",
   "execution_count": 158,
   "id": "03234808-c93d-4678-b2ba-4bef2088271e",
   "metadata": {
    "tags": []
   },
   "outputs": [],
   "source": [
    "ee.Initialize()"
   ]
  },
  {
   "cell_type": "code",
   "execution_count": 155,
   "id": "f30745ff-123c-4e79-b1f7-ebdbd84a1010",
   "metadata": {
    "tags": []
   },
   "outputs": [],
   "source": [
    "import geemap"
   ]
  },
  {
   "cell_type": "code",
   "execution_count": 156,
   "id": "6cdf0a36-cd52-4c65-825a-0814b429e09f",
   "metadata": {
    "tags": []
   },
   "outputs": [
    {
     "data": {
      "application/vnd.jupyter.widget-view+json": {
       "model_id": "0a8d91138dcc44abac3c347f32c37967",
       "version_major": 2,
       "version_minor": 0
      },
      "text/plain": [
       "Map(center=[20, 0], controls=(WidgetControl(options=['position', 'transparent_bg'], widget=HBox(children=(Togg…"
      ]
     },
     "metadata": {},
     "output_type": "display_data"
    }
   ],
   "source": [
    "Map = geemap.Map()\n",
    "Map"
   ]
  },
  {
   "cell_type": "code",
   "execution_count": 121,
   "id": "33d567f4-d5df-435e-b940-278b41f7f2b8",
   "metadata": {
    "tags": []
   },
   "outputs": [],
   "source": [
    "# # Add Earth Engine dataset\n",
    "# SOIL_VAR_NAME = \"cec\"\n",
    "# data = ee.Image(f\"projects/soilgrids-isric/{SOIL_VAR_NAME}_mean\")\n",
    "\n",
    "# BANDNAME = f\"{SOIL_VAR_NAME}_0-5cm_mean\"\n",
    "\n",
    "# # Set visualization parameters.\n",
    "# data_vis = {\n",
    "#     \"bands\":[BANDNAME],\n",
    "#     'min': 0,\n",
    "#     'max': 800,\n",
    "#     'palette': ['006633', 'E5FFCC', '662A00', 'D8D8D8', 'F5F5F5'],\n",
    "# }\n",
    "\n",
    "# # Add Earth Engine DEM to map\n",
    "# Map.addLayer(data, data_vis, f'SoilGrid v2: {BANDNAME}')"
   ]
  },
  {
   "cell_type": "markdown",
   "id": "2ea4d526-a4c2-4a26-8823-7099d594a512",
   "metadata": {},
   "source": [
    "### Read the input zones file"
   ]
  },
  {
   "cell_type": "code",
   "execution_count": 178,
   "id": "12bf18a2-dd8f-48cd-ab31-2f4f0b38789f",
   "metadata": {
    "tags": []
   },
   "outputs": [],
   "source": [
    "input_zones_fn = \"/projects/my-public-bucket/footprints_LCunmasked.gpkg\"\n",
    "\n",
    "footprints_sibbork_gdf = gpd.read_file(input_zones_fn)\n",
    "\n",
    "# convert to FeatureCollection using one line of code\n",
    "footprints_sibbork_fc = geemap.geopandas_to_ee(footprints_sibbork_gdf)\n",
    "\n",
    "Map.addLayer(footprints_sibbork_fc, {\"color\":\"red\"}, 'SIBBORK sites TTE')"
   ]
  },
  {
   "cell_type": "markdown",
   "id": "803a6a02-7786-48e1-852e-e37d469558e0",
   "metadata": {},
   "source": [
    "### Set some zonal stats arguments"
   ]
  },
  {
   "cell_type": "code",
   "execution_count": 216,
   "id": "5dbe8267-f525-4f6d-8f73-8a1f7020086a",
   "metadata": {},
   "outputs": [],
   "source": [
    "STATS_TYPE = 'MEDIAN'\n",
    "SCALE = 250\n",
    "# out_dir = '/projects/my-public-bucket/test_geemap_zonal'\n",
    "# if not os.path.exists(out_dir):\n",
    "#     os.makedirs(out_dir)"
   ]
  },
  {
   "cell_type": "code",
   "execution_count": 217,
   "id": "491a267e-d8b5-44f9-8f7e-c3f8be126bcb",
   "metadata": {
    "tags": []
   },
   "outputs": [
    {
     "data": {
      "text/plain": [
       "['bdod_0-5cm_mean',\n",
       " 'bdod_5-15cm_mean',\n",
       " 'bdod_15-30cm_mean',\n",
       " 'bdod_30-60cm_mean',\n",
       " 'bdod_60-100cm_mean',\n",
       " 'bdod_100-200cm_mean']"
      ]
     },
     "execution_count": 217,
     "metadata": {},
     "output_type": "execute_result"
    }
   ],
   "source": [
    "ee.Image('projects/soilgrids-isric/bdod_mean').bandNames().getInfo()"
   ]
  },
  {
   "cell_type": "markdown",
   "id": "cafffe66-9daf-4d33-876f-fdac5ef71083",
   "metadata": {
    "tags": []
   },
   "source": [
    "### Run zonal stats across all layers of SoilGrids V2 and append to the input geodataframe"
   ]
  },
  {
   "cell_type": "code",
   "execution_count": 226,
   "id": "0785d53c-db92-423c-a596-adf9ecc7ebb6",
   "metadata": {
    "tags": []
   },
   "outputs": [
    {
     "name": "stdout",
     "output_type": "stream",
     "text": [
      "Computing statistics ...\n",
      "Computing statistics ...\n",
      "Computing statistics ...\n",
      "Computing statistics ...\n",
      "Computing statistics ...\n",
      "Computing statistics ...\n",
      "Computing statistics ...\n",
      "Computing statistics ...\n",
      "Computing statistics ...\n",
      "Computing statistics ...\n",
      "Computing statistics ...\n"
     ]
    }
   ],
   "source": [
    "SOILGRIDS_LAYER_LIST = [\"bdod\",\"cec\",\"cfvo\",\"clay\",\"nitrogen\",\"ocd\",\"ocs\",\"phh2o\",\"sand\",\"silt\",\"soc\"]\n",
    "df_list = []\n",
    "\n",
    "for SOILGRID in SOILGRIDS_LAYER_LIST:\n",
    "    \n",
    "    data = ee.Image(f\"projects/soilgrids-isric/{SOILGRID}_mean\")\n",
    "\n",
    "    out_stats_fn = os.path.join(out_dir, f'zonal_stats_{STATS_TYPE}_{SCALE}_{SOILGRID}' + '.csv')\n",
    "\n",
    "    # Allowed output formats: csv, shp, json, kml, kmz\n",
    "    # Allowed statistics type: MEAN, MAXIMUM, MINIMUM, MEDIAN, STD, MIN_MAX, VARIANCE, SUM\n",
    "    df = geemap.zonal_statistics(data, footprints_sibbork_fc, out_stats_fn, statistics_type=STATS_TYPE, scale=SCALE, return_fc=True)\n",
    "    df = geemap.ee_to_pandas(df)\n",
    "    df_list.append(df.drop(columns=COLS_LIST[0:-1]))\n",
    "    \n",
    "df = pd.concat(df_list, axis = 1).T.drop_duplicates().T"
   ]
  },
  {
   "cell_type": "markdown",
   "id": "1f188cdf-28e0-4cc0-81f4-a806038b71f9",
   "metadata": {},
   "source": [
    "# Another dataset: TTE forest pattern"
   ]
  },
  {
   "cell_type": "code",
   "execution_count": 162,
   "id": "d23f84bf-c6b4-451e-bbab-2bdb4dd18ad2",
   "metadata": {
    "tags": []
   },
   "outputs": [],
   "source": [
    "ASSET_PATH = 'projects/foreststructure/TTE_DATA_v201902v2'"
   ]
  },
  {
   "cell_type": "code",
   "execution_count": 177,
   "id": "cce7be96-9403-4781-a39d-c22204283d50",
   "metadata": {
    "tags": []
   },
   "outputs": [
    {
     "data": {
      "text/plain": [
       "['tte_domain', 'tte_zones', 'tte_abruptness', 'tte_classification', 'tcc']"
      ]
     },
     "execution_count": 177,
     "metadata": {},
     "output_type": "execute_result"
    }
   ],
   "source": [
    "ee.Image(ASSET_PATH).bandNames().getInfo()"
   ]
  },
  {
   "cell_type": "code",
   "execution_count": 227,
   "id": "a73e3cba-688e-458c-9a16-7f9e82035189",
   "metadata": {
    "tags": []
   },
   "outputs": [
    {
     "name": "stdout",
     "output_type": "stream",
     "text": [
      "Computing statistics ...\n"
     ]
    }
   ],
   "source": [
    "data = ee.Image(ASSET_PATH)\n",
    "\n",
    "#out_stats_fn = os.path.join(out_dir, f'zonal_stats_{STATS_TYPE}_{SCALE}_{BAND}' + '.csv')\n",
    "out_stats_fn = os.path.join(out_dir, f'zonal_stats_{STATS_TYPE}_{SCALE}' + '.csv')\n",
    "\n",
    "# Allowed output formats: csv, shp, json, kml, kmz\n",
    "# Allowed statistics type: MEAN, MAXIMUM, MINIMUM, MEDIAN, STD, MIN_MAX, VARIANCE, SUM\n",
    "df_tte = geemap.zonal_statistics(data, footprints_sibbork_fc, out_stats_fn, statistics_type=STATS_TYPE, return_fc=True)\n",
    "df_tte = geemap.ee_to_pandas(df_tte)"
   ]
  },
  {
   "cell_type": "code",
   "execution_count": 228,
   "id": "76d0fe01-fddb-47d8-874e-c1a90e88c4ba",
   "metadata": {
    "tags": []
   },
   "outputs": [
    {
     "data": {
      "text/html": [
       "<div>\n",
       "<style scoped>\n",
       "    .dataframe tbody tr th:only-of-type {\n",
       "        vertical-align: middle;\n",
       "    }\n",
       "\n",
       "    .dataframe tbody tr th {\n",
       "        vertical-align: top;\n",
       "    }\n",
       "\n",
       "    .dataframe thead th {\n",
       "        text-align: right;\n",
       "    }\n",
       "</style>\n",
       "<table border=\"1\" class=\"dataframe\">\n",
       "  <thead>\n",
       "    <tr style=\"text-align: right;\">\n",
       "      <th></th>\n",
       "      <th>tte_domain</th>\n",
       "      <th>tte_zones</th>\n",
       "      <th>tte_abruptness</th>\n",
       "      <th>tte_classification</th>\n",
       "      <th>tcc</th>\n",
       "      <th>file</th>\n",
       "      <th>site_cnt_h5</th>\n",
       "      <th>name</th>\n",
       "      <th>area_ha</th>\n",
       "      <th>area_km2</th>\n",
       "      <th>site_sim_status</th>\n",
       "      <th>site_cnt_stemmap_yrs</th>\n",
       "    </tr>\n",
       "  </thead>\n",
       "  <tbody>\n",
       "    <tr>\n",
       "      <th>0</th>\n",
       "      <td>NaN</td>\n",
       "      <td>NaN</td>\n",
       "      <td>NaN</td>\n",
       "      <td>NaN</td>\n",
       "      <td>NaN</td>\n",
       "      <td>arcticDEM_Creamer_823_1_49_10m_mf300_LCunmaske...</td>\n",
       "      <td>0</td>\n",
       "      <td>Creamer_823_1_49</td>\n",
       "      <td>900</td>\n",
       "      <td>9</td>\n",
       "      <td>incomplete</td>\n",
       "      <td>0</td>\n",
       "    </tr>\n",
       "    <tr>\n",
       "      <th>1</th>\n",
       "      <td>1.0</td>\n",
       "      <td>NaN</td>\n",
       "      <td>NaN</td>\n",
       "      <td>NaN</td>\n",
       "      <td>NaN</td>\n",
       "      <td>arcticDEM_TL_MM27_T1_1_11_10m_mf300_LCunmasked...</td>\n",
       "      <td>3</td>\n",
       "      <td>TL_MM27_T1_1_11</td>\n",
       "      <td>900</td>\n",
       "      <td>9</td>\n",
       "      <td>complete</td>\n",
       "      <td>93</td>\n",
       "    </tr>\n",
       "    <tr>\n",
       "      <th>2</th>\n",
       "      <td>1.0</td>\n",
       "      <td>2.0</td>\n",
       "      <td>1.0</td>\n",
       "      <td>7.0</td>\n",
       "      <td>0.0</td>\n",
       "      <td>arcticDEM_ambler_10m_mf300_LCunmasked.tif</td>\n",
       "      <td>3</td>\n",
       "      <td>ambler</td>\n",
       "      <td>900</td>\n",
       "      <td>9</td>\n",
       "      <td>complete</td>\n",
       "      <td>93</td>\n",
       "    </tr>\n",
       "    <tr>\n",
       "      <th>3</th>\n",
       "      <td>1.0</td>\n",
       "      <td>1.0</td>\n",
       "      <td>1.0</td>\n",
       "      <td>10.0</td>\n",
       "      <td>0.0</td>\n",
       "      <td>arcticDEM_brooks01_10m_mf300_LCunmasked.tif</td>\n",
       "      <td>3</td>\n",
       "      <td>brooks01</td>\n",
       "      <td>900</td>\n",
       "      <td>9</td>\n",
       "      <td>complete</td>\n",
       "      <td>93</td>\n",
       "    </tr>\n",
       "    <tr>\n",
       "      <th>4</th>\n",
       "      <td>1.0</td>\n",
       "      <td>1.0</td>\n",
       "      <td>1.0</td>\n",
       "      <td>7.0</td>\n",
       "      <td>0.0</td>\n",
       "      <td>arcticDEM_brooks02_10m_mf300_LCunmasked.tif</td>\n",
       "      <td>3</td>\n",
       "      <td>brooks02</td>\n",
       "      <td>900</td>\n",
       "      <td>9</td>\n",
       "      <td>complete</td>\n",
       "      <td>93</td>\n",
       "    </tr>\n",
       "  </tbody>\n",
       "</table>\n",
       "</div>"
      ],
      "text/plain": [
       "   tte_domain  tte_zones  tte_abruptness  tte_classification  tcc  \\\n",
       "0         NaN        NaN             NaN                 NaN  NaN   \n",
       "1         1.0        NaN             NaN                 NaN  NaN   \n",
       "2         1.0        2.0             1.0                 7.0  0.0   \n",
       "3         1.0        1.0             1.0                10.0  0.0   \n",
       "4         1.0        1.0             1.0                 7.0  0.0   \n",
       "\n",
       "                                                file site_cnt_h5  \\\n",
       "0  arcticDEM_Creamer_823_1_49_10m_mf300_LCunmaske...           0   \n",
       "1  arcticDEM_TL_MM27_T1_1_11_10m_mf300_LCunmasked...           3   \n",
       "2          arcticDEM_ambler_10m_mf300_LCunmasked.tif           3   \n",
       "3        arcticDEM_brooks01_10m_mf300_LCunmasked.tif           3   \n",
       "4        arcticDEM_brooks02_10m_mf300_LCunmasked.tif           3   \n",
       "\n",
       "               name  area_ha  area_km2 site_sim_status  site_cnt_stemmap_yrs  \n",
       "0  Creamer_823_1_49      900         9      incomplete                     0  \n",
       "1   TL_MM27_T1_1_11      900         9        complete                    93  \n",
       "2            ambler      900         9        complete                    93  \n",
       "3          brooks01      900         9        complete                    93  \n",
       "4          brooks02      900         9        complete                    93  "
      ]
     },
     "execution_count": 228,
     "metadata": {},
     "output_type": "execute_result"
    }
   ],
   "source": [
    "df_tte.head()"
   ]
  },
  {
   "cell_type": "markdown",
   "id": "f055fc9f-4143-4473-ae92-624ff7007ebe",
   "metadata": {},
   "source": [
    "### Save to gpkg and csv"
   ]
  },
  {
   "cell_type": "code",
   "execution_count": 230,
   "id": "5f8538d5-cad7-457c-a919-be348c248164",
   "metadata": {
    "tags": []
   },
   "outputs": [
    {
     "data": {
      "text/html": [
       "<div>\n",
       "<style scoped>\n",
       "    .dataframe tbody tr th:only-of-type {\n",
       "        vertical-align: middle;\n",
       "    }\n",
       "\n",
       "    .dataframe tbody tr th {\n",
       "        vertical-align: top;\n",
       "    }\n",
       "\n",
       "    .dataframe thead th {\n",
       "        text-align: right;\n",
       "    }\n",
       "</style>\n",
       "<table border=\"1\" class=\"dataframe\">\n",
       "  <thead>\n",
       "    <tr style=\"text-align: right;\">\n",
       "      <th></th>\n",
       "      <th>name</th>\n",
       "      <th>file</th>\n",
       "      <th>area_km2</th>\n",
       "      <th>area_ha</th>\n",
       "      <th>site_cnt_h5</th>\n",
       "      <th>site_sim_status</th>\n",
       "      <th>site_cnt_stemmap_yrs</th>\n",
       "      <th>geometry</th>\n",
       "      <th>bdod_0-5cm_mean</th>\n",
       "      <th>bdod_5-15cm_mean</th>\n",
       "      <th>...</th>\n",
       "      <th>silt_60-100cm_mean</th>\n",
       "      <th>silt_100-200cm_mean</th>\n",
       "      <th>soc_0-5cm_mean</th>\n",
       "      <th>soc_5-15cm_mean</th>\n",
       "      <th>soc_15-30cm_mean</th>\n",
       "      <th>soc_30-60cm_mean</th>\n",
       "      <th>soc_60-100cm_mean</th>\n",
       "      <th>soc_100-200cm_mean</th>\n",
       "      <th>tte_abruptness</th>\n",
       "      <th>tcc</th>\n",
       "    </tr>\n",
       "  </thead>\n",
       "  <tbody>\n",
       "    <tr>\n",
       "      <th>0</th>\n",
       "      <td>Creamer_823_1_49</td>\n",
       "      <td>arcticDEM_Creamer_823_1_49_10m_mf300_LCunmaske...</td>\n",
       "      <td>9.0</td>\n",
       "      <td>900.0</td>\n",
       "      <td>0</td>\n",
       "      <td>incomplete</td>\n",
       "      <td>0.0</td>\n",
       "      <td>POLYGON ((-2699360.000 607680.000, -2699360.00...</td>\n",
       "      <td>54.0</td>\n",
       "      <td>68.0</td>\n",
       "      <td>...</td>\n",
       "      <td>686.0</td>\n",
       "      <td>697.0</td>\n",
       "      <td>2170.000000</td>\n",
       "      <td>1417.443918</td>\n",
       "      <td>584.000000</td>\n",
       "      <td>292.161964</td>\n",
       "      <td>256.666667</td>\n",
       "      <td>254.370370</td>\n",
       "      <td>NaN</td>\n",
       "      <td>NaN</td>\n",
       "    </tr>\n",
       "    <tr>\n",
       "      <th>1</th>\n",
       "      <td>TL_MM27_T1_1_11</td>\n",
       "      <td>arcticDEM_TL_MM27_T1_1_11_10m_mf300_LCunmasked...</td>\n",
       "      <td>9.0</td>\n",
       "      <td>900.0</td>\n",
       "      <td>3</td>\n",
       "      <td>complete</td>\n",
       "      <td>93.0</td>\n",
       "      <td>POLYGON ((-2385410.000 1429930.000, -2385410.0...</td>\n",
       "      <td>64.0</td>\n",
       "      <td>82.0</td>\n",
       "      <td>...</td>\n",
       "      <td>446.0</td>\n",
       "      <td>404.0</td>\n",
       "      <td>2936.000000</td>\n",
       "      <td>2116.667539</td>\n",
       "      <td>1280.420455</td>\n",
       "      <td>969.500000</td>\n",
       "      <td>581.770833</td>\n",
       "      <td>544.000000</td>\n",
       "      <td>NaN</td>\n",
       "      <td>NaN</td>\n",
       "    </tr>\n",
       "    <tr>\n",
       "      <th>2</th>\n",
       "      <td>ambler</td>\n",
       "      <td>arcticDEM_ambler_10m_mf300_LCunmasked.tif</td>\n",
       "      <td>9.0</td>\n",
       "      <td>900.0</td>\n",
       "      <td>3</td>\n",
       "      <td>complete</td>\n",
       "      <td>93.0</td>\n",
       "      <td>POLYGON ((-2292720.000 915650.000, -2292720.00...</td>\n",
       "      <td>57.0</td>\n",
       "      <td>81.0</td>\n",
       "      <td>...</td>\n",
       "      <td>355.0</td>\n",
       "      <td>332.0</td>\n",
       "      <td>2566.287709</td>\n",
       "      <td>1625.681818</td>\n",
       "      <td>828.000000</td>\n",
       "      <td>564.500000</td>\n",
       "      <td>482.576023</td>\n",
       "      <td>500.666667</td>\n",
       "      <td>1.0</td>\n",
       "      <td>0.0</td>\n",
       "    </tr>\n",
       "    <tr>\n",
       "      <th>3</th>\n",
       "      <td>brooks01</td>\n",
       "      <td>arcticDEM_brooks01_10m_mf300_LCunmasked.tif</td>\n",
       "      <td>9.0</td>\n",
       "      <td>900.0</td>\n",
       "      <td>3</td>\n",
       "      <td>complete</td>\n",
       "      <td>93.0</td>\n",
       "      <td>POLYGON ((-2385410.000 637580.000, -2385410.00...</td>\n",
       "      <td>48.0</td>\n",
       "      <td>75.0</td>\n",
       "      <td>...</td>\n",
       "      <td>376.0</td>\n",
       "      <td>336.0</td>\n",
       "      <td>2741.000000</td>\n",
       "      <td>1910.268293</td>\n",
       "      <td>1175.000000</td>\n",
       "      <td>623.000000</td>\n",
       "      <td>573.666667</td>\n",
       "      <td>569.666667</td>\n",
       "      <td>1.0</td>\n",
       "      <td>0.0</td>\n",
       "    </tr>\n",
       "    <tr>\n",
       "      <th>4</th>\n",
       "      <td>brooks02</td>\n",
       "      <td>arcticDEM_brooks02_10m_mf300_LCunmasked.tif</td>\n",
       "      <td>9.0</td>\n",
       "      <td>900.0</td>\n",
       "      <td>3</td>\n",
       "      <td>complete</td>\n",
       "      <td>93.0</td>\n",
       "      <td>POLYGON ((-2388400.000 640570.000, -2388400.00...</td>\n",
       "      <td>51.0</td>\n",
       "      <td>75.0</td>\n",
       "      <td>...</td>\n",
       "      <td>350.0</td>\n",
       "      <td>317.0</td>\n",
       "      <td>2665.336294</td>\n",
       "      <td>1925.356423</td>\n",
       "      <td>1262.000000</td>\n",
       "      <td>905.253071</td>\n",
       "      <td>788.000000</td>\n",
       "      <td>797.743351</td>\n",
       "      <td>1.0</td>\n",
       "      <td>0.0</td>\n",
       "    </tr>\n",
       "  </tbody>\n",
       "</table>\n",
       "<p>5 rows × 71 columns</p>\n",
       "</div>"
      ],
      "text/plain": [
       "               name                                               file  \\\n",
       "0  Creamer_823_1_49  arcticDEM_Creamer_823_1_49_10m_mf300_LCunmaske...   \n",
       "1   TL_MM27_T1_1_11  arcticDEM_TL_MM27_T1_1_11_10m_mf300_LCunmasked...   \n",
       "2            ambler          arcticDEM_ambler_10m_mf300_LCunmasked.tif   \n",
       "3          brooks01        arcticDEM_brooks01_10m_mf300_LCunmasked.tif   \n",
       "4          brooks02        arcticDEM_brooks02_10m_mf300_LCunmasked.tif   \n",
       "\n",
       "   area_km2  area_ha site_cnt_h5 site_sim_status  site_cnt_stemmap_yrs  \\\n",
       "0       9.0    900.0           0      incomplete                   0.0   \n",
       "1       9.0    900.0           3        complete                  93.0   \n",
       "2       9.0    900.0           3        complete                  93.0   \n",
       "3       9.0    900.0           3        complete                  93.0   \n",
       "4       9.0    900.0           3        complete                  93.0   \n",
       "\n",
       "                                            geometry  bdod_0-5cm_mean  \\\n",
       "0  POLYGON ((-2699360.000 607680.000, -2699360.00...             54.0   \n",
       "1  POLYGON ((-2385410.000 1429930.000, -2385410.0...             64.0   \n",
       "2  POLYGON ((-2292720.000 915650.000, -2292720.00...             57.0   \n",
       "3  POLYGON ((-2385410.000 637580.000, -2385410.00...             48.0   \n",
       "4  POLYGON ((-2388400.000 640570.000, -2388400.00...             51.0   \n",
       "\n",
       "   bdod_5-15cm_mean  ...  silt_60-100cm_mean  silt_100-200cm_mean  \\\n",
       "0              68.0  ...               686.0                697.0   \n",
       "1              82.0  ...               446.0                404.0   \n",
       "2              81.0  ...               355.0                332.0   \n",
       "3              75.0  ...               376.0                336.0   \n",
       "4              75.0  ...               350.0                317.0   \n",
       "\n",
       "   soc_0-5cm_mean  soc_5-15cm_mean  soc_15-30cm_mean  soc_30-60cm_mean  \\\n",
       "0     2170.000000      1417.443918        584.000000        292.161964   \n",
       "1     2936.000000      2116.667539       1280.420455        969.500000   \n",
       "2     2566.287709      1625.681818        828.000000        564.500000   \n",
       "3     2741.000000      1910.268293       1175.000000        623.000000   \n",
       "4     2665.336294      1925.356423       1262.000000        905.253071   \n",
       "\n",
       "   soc_60-100cm_mean  soc_100-200cm_mean  tte_abruptness  tcc  \n",
       "0         256.666667          254.370370             NaN  NaN  \n",
       "1         581.770833          544.000000             NaN  NaN  \n",
       "2         482.576023          500.666667             1.0  0.0  \n",
       "3         573.666667          569.666667             1.0  0.0  \n",
       "4         788.000000          797.743351             1.0  0.0  \n",
       "\n",
       "[5 rows x 71 columns]"
      ]
     },
     "execution_count": 230,
     "metadata": {},
     "output_type": "execute_result"
    }
   ],
   "source": [
    "footprints_sibbork_gdf_soils = pd.concat([gdf, df, df_tte[['tte_abruptness','tcc']] ], axis=1)\n",
    "#footprints_sibbork_gdf_soils.to_file(os.path.splitext(input_zones_fn)[0] + f'_zonal_stats_{STATS_TYPE}_{SCALE}' + '.gpkg')\n",
    "#footprints_sibbork_gdf_soils.to_csv(os.path.splitext(input_zones_fn)[0] + f'_zonal_stats_{STATS_TYPE}_{SCALE}' + '.csv')\n",
    "footprints_sibbork_gdf_soils.head()"
   ]
  },
  {
   "cell_type": "code",
   "execution_count": 201,
   "id": "ba6e7583-7be7-4a1f-9b50-3c1195d6703e",
   "metadata": {
    "tags": []
   },
   "outputs": [],
   "source": [
    "import plotnine\n",
    "from plotnine import *"
   ]
  },
  {
   "cell_type": "code",
   "execution_count": 235,
   "id": "a01ab2ee-9919-49f5-a7f4-26db40a4d592",
   "metadata": {
    "tags": []
   },
   "outputs": [
    {
     "data": {
      "image/png": "[encoded data removed]",
      "text/plain": [
       "<Figure size 640x480 with 1 Axes>"
      ]
     },
     "metadata": {
      "image/png": {
       "height": 480,
       "width": 640
      }
     },
     "output_type": "display_data"
    },
    {
     "data": {
      "text/plain": [
       "<Figure Size: (640 x 480)>"
      ]
     },
     "execution_count": 235,
     "metadata": {},
     "output_type": "execute_result"
    }
   ],
   "source": [
    "(\n",
    " ggplot(footprints_sibbork_gdf_soils, aes(x='tcc',y='bdod_5-15cm_mean'))\n",
    "    + geom_point(show_legend=False) \n",
    "    #+ geom_label(aes(label='name'))\n",
    ")"
   ]
  }
 ],
 "metadata": {
  "kernelspec": {
   "display_name": "Python 3 (ipykernel)",
   "language": "python",
   "name": "python3"
  },
  "language_info": {
   "codemirror_mode": {
    "name": "ipython",
    "version": 3
   },
   "file_extension": ".py",
   "mimetype": "text/x-python",
   "name": "python",
   "nbconvert_exporter": "python",
   "pygments_lexer": "ipython3",
   "version": "3.10.13"
  }
 },
 "nbformat": 4,
 "nbformat_minor": 5
}

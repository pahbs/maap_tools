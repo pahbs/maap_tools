{
 "cells": [
  {
   "cell_type": "markdown",
   "id": "f41b3f9d-14fa-4d03-a7b8-5a45565c4b44",
   "metadata": {},
   "source": [
    "# Test SoilGrids v2 access through Earth Engine\n",
    "\n",
    "https://git.wur.nl/isric/soilgrids/soilgrids.notebooks/-/blob/master/markdown/access_on_gee.md\n",
    "\n",
    "#### Run zonal stats for SIBBORK sites"
   ]
  },
  {
   "cell_type": "code",
   "execution_count": 1,
   "id": "d807f477-96da-4a9b-96ea-4b093ac86530",
   "metadata": {
    "tags": []
   },
   "outputs": [
    {
     "name": "stderr",
     "output_type": "stream",
     "text": [
      "/tmp/ipykernel_702/1464670107.py:3: DeprecationWarning: Shapely 2.0 is installed, but because PyGEOS is also installed, GeoPandas still uses PyGEOS by default. However, starting with version 0.14, the default will switch to Shapely. To force to use Shapely 2.0 now, you can either uninstall PyGEOS or set the environment variable USE_PYGEOS=0. You can do this before starting the Python process, or in your code before importing geopandas:\n",
      "\n",
      "import os\n",
      "os.environ['USE_PYGEOS'] = '0'\n",
      "import geopandas\n",
      "\n",
      "In the next release, GeoPandas will switch to using Shapely by default, even if PyGEOS is installed. If you only have PyGEOS installed to get speed-ups, this switch should be smooth. However, if you are using PyGEOS directly (calling PyGEOS functions on geometries from GeoPandas), this will then stop working and you are encouraged to migrate from PyGEOS to Shapely 2.0 (https://shapely.readthedocs.io/en/latest/migration_pygeos.html).\n",
      "  import geopandas as gpd\n"
     ]
    }
   ],
   "source": [
    "import os, sys\n",
    "import ee\n",
    "import geopandas as gpd\n",
    "import pandas as pd"
   ]
  },
  {
   "cell_type": "code",
   "execution_count": null,
   "id": "c177e773-5afc-4f3b-9d60-65e473cc39ba",
   "metadata": {},
   "outputs": [],
   "source": [
    "!pip install geemap"
   ]
  },
  {
   "cell_type": "code",
   "execution_count": 4,
   "id": "f30745ff-123c-4e79-b1f7-ebdbd84a1010",
   "metadata": {
    "tags": []
   },
   "outputs": [],
   "source": [
    "import geemap"
   ]
  },
  {
   "cell_type": "code",
   "execution_count": 122,
   "id": "6cdf0a36-cd52-4c65-825a-0814b429e09f",
   "metadata": {
    "tags": []
   },
   "outputs": [
    {
     "data": {
      "application/vnd.jupyter.widget-view+json": {
       "model_id": "fd9343125e85458692029b3a3e1d342a",
       "version_major": 2,
       "version_minor": 0
      },
      "text/plain": [
       "Map(center=[20, 0], controls=(WidgetControl(options=['position', 'transparent_bg'], widget=HBox(children=(Togg…"
      ]
     },
     "metadata": {},
     "output_type": "display_data"
    }
   ],
   "source": [
    "Map = geemap.Map()\n",
    "Map"
   ]
  },
  {
   "cell_type": "code",
   "execution_count": 121,
   "id": "33d567f4-d5df-435e-b940-278b41f7f2b8",
   "metadata": {
    "tags": []
   },
   "outputs": [],
   "source": [
    "# # Add Earth Engine dataset\n",
    "# SOIL_VAR_NAME = \"cec\"\n",
    "# data = ee.Image(f\"projects/soilgrids-isric/{SOIL_VAR_NAME}_mean\")\n",
    "\n",
    "# BANDNAME = f\"{SOIL_VAR_NAME}_0-5cm_mean\"\n",
    "\n",
    "# # Set visualization parameters.\n",
    "# data_vis = {\n",
    "#     \"bands\":[BANDNAME],\n",
    "#     'min': 0,\n",
    "#     'max': 800,\n",
    "#     'palette': ['006633', 'E5FFCC', '662A00', 'D8D8D8', 'F5F5F5'],\n",
    "# }\n",
    "\n",
    "# # Add Earth Engine DEM to map\n",
    "# Map.addLayer(data, data_vis, f'SoilGrid v2: {BANDNAME}')"
   ]
  },
  {
   "cell_type": "markdown",
   "id": "2ea4d526-a4c2-4a26-8823-7099d594a512",
   "metadata": {},
   "source": [
    "### Read the input zones file"
   ]
  },
  {
   "cell_type": "code",
   "execution_count": 123,
   "id": "12bf18a2-dd8f-48cd-ab31-2f4f0b38789f",
   "metadata": {
    "tags": []
   },
   "outputs": [],
   "source": [
    "input_zones_fn = \"/projects/my-public-bucket/footprints_LCunmasked.gpkg\"\n",
    "\n",
    "footprints_sibbork_gdf = gpd.read_file(input_zones_fn)\n",
    "\n",
    "# convert to FeatureCollection using one line of code\n",
    "footprints_sibbork_fc = geemap.geopandas_to_ee(footprints_sibbork_gdf)\n",
    "\n",
    "Map.addLayer(footprints_sibbork_fc, {\"color\":\"red\"}, 'SIBBORK sites TTE')"
   ]
  },
  {
   "cell_type": "markdown",
   "id": "803a6a02-7786-48e1-852e-e37d469558e0",
   "metadata": {},
   "source": [
    "### Set some zonal stats arguments"
   ]
  },
  {
   "cell_type": "code",
   "execution_count": null,
   "id": "5dbe8267-f525-4f6d-8f73-8a1f7020086a",
   "metadata": {},
   "outputs": [],
   "source": [
    "STATS_TYPE = 'MEDIAN'\n",
    "SCALE = 250\n",
    "# out_dir = '/projects/my-public-bucket/test_geemap_zonal'\n",
    "# if not os.path.exists(out_dir):\n",
    "#     os.makedirs(out_dir)"
   ]
  },
  {
   "cell_type": "markdown",
   "id": "cafffe66-9daf-4d33-876f-fdac5ef71083",
   "metadata": {
    "tags": []
   },
   "source": [
    "### Run zonal stats across all layers of SoilGrids V2 and append to the input geodataframe"
   ]
  },
  {
   "cell_type": "code",
   "execution_count": 129,
   "id": "0785d53c-db92-423c-a596-adf9ecc7ebb6",
   "metadata": {
    "tags": []
   },
   "outputs": [
    {
     "name": "stdout",
     "output_type": "stream",
     "text": [
      "Computing statistics ...\n",
      "Computing statistics ...\n",
      "Computing statistics ...\n",
      "Computing statistics ...\n",
      "Computing statistics ...\n",
      "Computing statistics ...\n",
      "Computing statistics ...\n",
      "Computing statistics ...\n",
      "Computing statistics ...\n",
      "Computing statistics ...\n",
      "Computing statistics ...\n"
     ]
    }
   ],
   "source": [
    "SOILGRIDS_LAYER_LIST = [\"bdod\",\"cec\",\"cfvo\",\"clay\",\"nitrogen\",\"ocd\",\"ocs\",\"phh2o\",\"sand\",\"silt\",\"soc\"]\n",
    "df_list = []\n",
    "\n",
    "for SOILGRID in SOILGRIDS_LAYER_LIST:\n",
    "    \n",
    "    data = ee.Image(f\"projects/soilgrids-isric/{SOILGRID}_mean\")\n",
    "\n",
    "    out_stats_fn = os.path.join(out_dir, f'zonal_stats_{STATS_TYPE}_{SCALE}_{SOILGRID}' + '.csv')\n",
    "\n",
    "    # Allowed output formats: csv, shp, json, kml, kmz\n",
    "    # Allowed statistics type: MEAN, MAXIMUM, MINIMUM, MEDIAN, STD, MIN_MAX, VARIANCE, SUM\n",
    "    df = geemap.zonal_statistics(data, footprints_sibbork_fc, out_stats_fn, statistics_type=STATS_TYPE, scale=SCALE, return_fc=True)\n",
    "    df = geemap.ee_to_pandas(df)\n",
    "    df_list.append(df.drop(columns=COLS_LIST[0:-1]))\n",
    "    \n",
    "df = pd.concat(df_list, axis = 1).T.drop_duplicates().T"
   ]
  },
  {
   "cell_type": "markdown",
   "id": "6bd394b9-bd07-41d9-9248-7e116d47663e",
   "metadata": {},
   "source": [
    "### Save to gpkg and csv"
   ]
  },
  {
   "cell_type": "code",
   "execution_count": 134,
   "id": "5f8538d5-cad7-457c-a919-be348c248164",
   "metadata": {
    "tags": []
   },
   "outputs": [
    {
     "data": {
      "text/html": [
       "<div>\n",
       "<style scoped>\n",
       "    .dataframe tbody tr th:only-of-type {\n",
       "        vertical-align: middle;\n",
       "    }\n",
       "\n",
       "    .dataframe tbody tr th {\n",
       "        vertical-align: top;\n",
       "    }\n",
       "\n",
       "    .dataframe thead th {\n",
       "        text-align: right;\n",
       "    }\n",
       "</style>\n",
       "<table border=\"1\" class=\"dataframe\">\n",
       "  <thead>\n",
       "    <tr style=\"text-align: right;\">\n",
       "      <th></th>\n",
       "      <th>name</th>\n",
       "      <th>file</th>\n",
       "      <th>area_km2</th>\n",
       "      <th>area_ha</th>\n",
       "      <th>site_cnt_h5</th>\n",
       "      <th>site_sim_status</th>\n",
       "      <th>site_cnt_stemmap_yrs</th>\n",
       "      <th>geometry</th>\n",
       "      <th>bdod_0-5cm_mean</th>\n",
       "      <th>bdod_5-15cm_mean</th>\n",
       "      <th>...</th>\n",
       "      <th>silt_15-30cm_mean</th>\n",
       "      <th>silt_30-60cm_mean</th>\n",
       "      <th>silt_60-100cm_mean</th>\n",
       "      <th>silt_100-200cm_mean</th>\n",
       "      <th>soc_0-5cm_mean</th>\n",
       "      <th>soc_5-15cm_mean</th>\n",
       "      <th>soc_15-30cm_mean</th>\n",
       "      <th>soc_30-60cm_mean</th>\n",
       "      <th>soc_60-100cm_mean</th>\n",
       "      <th>soc_100-200cm_mean</th>\n",
       "    </tr>\n",
       "  </thead>\n",
       "  <tbody>\n",
       "    <tr>\n",
       "      <th>0</th>\n",
       "      <td>Creamer_823_1_49</td>\n",
       "      <td>arcticDEM_Creamer_823_1_49_10m_mf300_LCunmaske...</td>\n",
       "      <td>9.0</td>\n",
       "      <td>900.0</td>\n",
       "      <td>0</td>\n",
       "      <td>incomplete</td>\n",
       "      <td>0.0</td>\n",
       "      <td>POLYGON ((-2699360.000 607680.000, -2699360.00...</td>\n",
       "      <td>55.421099</td>\n",
       "      <td>70.692421</td>\n",
       "      <td>...</td>\n",
       "      <td>689.165080</td>\n",
       "      <td>684.089266</td>\n",
       "      <td>669.271912</td>\n",
       "      <td>677.688702</td>\n",
       "      <td>2114.798192</td>\n",
       "      <td>1359.857235</td>\n",
       "      <td>583.380553</td>\n",
       "      <td>289.045205</td>\n",
       "      <td>260.226394</td>\n",
       "      <td>257.604548</td>\n",
       "    </tr>\n",
       "    <tr>\n",
       "      <th>1</th>\n",
       "      <td>TL_MM27_T1_1_11</td>\n",
       "      <td>arcticDEM_TL_MM27_T1_1_11_10m_mf300_LCunmasked...</td>\n",
       "      <td>9.0</td>\n",
       "      <td>900.0</td>\n",
       "      <td>3</td>\n",
       "      <td>complete</td>\n",
       "      <td>93.0</td>\n",
       "      <td>POLYGON ((-2385410.000 1429930.000, -2385410.0...</td>\n",
       "      <td>64.680808</td>\n",
       "      <td>83.423659</td>\n",
       "      <td>...</td>\n",
       "      <td>460.851899</td>\n",
       "      <td>440.465877</td>\n",
       "      <td>433.973202</td>\n",
       "      <td>391.566854</td>\n",
       "      <td>2915.137860</td>\n",
       "      <td>2142.926030</td>\n",
       "      <td>1302.106539</td>\n",
       "      <td>963.524519</td>\n",
       "      <td>639.078428</td>\n",
       "      <td>618.847006</td>\n",
       "    </tr>\n",
       "    <tr>\n",
       "      <th>2</th>\n",
       "      <td>ambler</td>\n",
       "      <td>arcticDEM_ambler_10m_mf300_LCunmasked.tif</td>\n",
       "      <td>9.0</td>\n",
       "      <td>900.0</td>\n",
       "      <td>3</td>\n",
       "      <td>complete</td>\n",
       "      <td>93.0</td>\n",
       "      <td>POLYGON ((-2292720.000 915650.000, -2292720.00...</td>\n",
       "      <td>57.420586</td>\n",
       "      <td>81.637723</td>\n",
       "      <td>...</td>\n",
       "      <td>403.675696</td>\n",
       "      <td>395.056087</td>\n",
       "      <td>353.153423</td>\n",
       "      <td>328.230767</td>\n",
       "      <td>2574.497342</td>\n",
       "      <td>1619.058397</td>\n",
       "      <td>830.545633</td>\n",
       "      <td>566.860911</td>\n",
       "      <td>502.936610</td>\n",
       "      <td>519.919014</td>\n",
       "    </tr>\n",
       "    <tr>\n",
       "      <th>3</th>\n",
       "      <td>brooks01</td>\n",
       "      <td>arcticDEM_brooks01_10m_mf300_LCunmasked.tif</td>\n",
       "      <td>9.0</td>\n",
       "      <td>900.0</td>\n",
       "      <td>3</td>\n",
       "      <td>complete</td>\n",
       "      <td>93.0</td>\n",
       "      <td>POLYGON ((-2385410.000 637580.000, -2385410.00...</td>\n",
       "      <td>48.406301</td>\n",
       "      <td>74.048485</td>\n",
       "      <td>...</td>\n",
       "      <td>439.235207</td>\n",
       "      <td>412.689173</td>\n",
       "      <td>369.947119</td>\n",
       "      <td>331.084748</td>\n",
       "      <td>2762.913914</td>\n",
       "      <td>1907.273818</td>\n",
       "      <td>1200.982772</td>\n",
       "      <td>671.229759</td>\n",
       "      <td>607.671574</td>\n",
       "      <td>602.170030</td>\n",
       "    </tr>\n",
       "    <tr>\n",
       "      <th>4</th>\n",
       "      <td>brooks02</td>\n",
       "      <td>arcticDEM_brooks02_10m_mf300_LCunmasked.tif</td>\n",
       "      <td>9.0</td>\n",
       "      <td>900.0</td>\n",
       "      <td>3</td>\n",
       "      <td>complete</td>\n",
       "      <td>93.0</td>\n",
       "      <td>POLYGON ((-2388400.000 640570.000, -2388400.00...</td>\n",
       "      <td>50.818985</td>\n",
       "      <td>74.706796</td>\n",
       "      <td>...</td>\n",
       "      <td>430.547498</td>\n",
       "      <td>418.552321</td>\n",
       "      <td>361.440402</td>\n",
       "      <td>324.088248</td>\n",
       "      <td>2648.198053</td>\n",
       "      <td>1944.254302</td>\n",
       "      <td>1270.870353</td>\n",
       "      <td>879.338660</td>\n",
       "      <td>783.145375</td>\n",
       "      <td>780.942497</td>\n",
       "    </tr>\n",
       "  </tbody>\n",
       "</table>\n",
       "<p>5 rows × 69 columns</p>\n",
       "</div>"
      ],
      "text/plain": [
       "               name                                               file  \\\n",
       "0  Creamer_823_1_49  arcticDEM_Creamer_823_1_49_10m_mf300_LCunmaske...   \n",
       "1   TL_MM27_T1_1_11  arcticDEM_TL_MM27_T1_1_11_10m_mf300_LCunmasked...   \n",
       "2            ambler          arcticDEM_ambler_10m_mf300_LCunmasked.tif   \n",
       "3          brooks01        arcticDEM_brooks01_10m_mf300_LCunmasked.tif   \n",
       "4          brooks02        arcticDEM_brooks02_10m_mf300_LCunmasked.tif   \n",
       "\n",
       "   area_km2  area_ha site_cnt_h5 site_sim_status  site_cnt_stemmap_yrs  \\\n",
       "0       9.0    900.0           0      incomplete                   0.0   \n",
       "1       9.0    900.0           3        complete                  93.0   \n",
       "2       9.0    900.0           3        complete                  93.0   \n",
       "3       9.0    900.0           3        complete                  93.0   \n",
       "4       9.0    900.0           3        complete                  93.0   \n",
       "\n",
       "                                            geometry  bdod_0-5cm_mean  \\\n",
       "0  POLYGON ((-2699360.000 607680.000, -2699360.00...        55.421099   \n",
       "1  POLYGON ((-2385410.000 1429930.000, -2385410.0...        64.680808   \n",
       "2  POLYGON ((-2292720.000 915650.000, -2292720.00...        57.420586   \n",
       "3  POLYGON ((-2385410.000 637580.000, -2385410.00...        48.406301   \n",
       "4  POLYGON ((-2388400.000 640570.000, -2388400.00...        50.818985   \n",
       "\n",
       "   bdod_5-15cm_mean  ...  silt_15-30cm_mean  silt_30-60cm_mean  \\\n",
       "0         70.692421  ...         689.165080         684.089266   \n",
       "1         83.423659  ...         460.851899         440.465877   \n",
       "2         81.637723  ...         403.675696         395.056087   \n",
       "3         74.048485  ...         439.235207         412.689173   \n",
       "4         74.706796  ...         430.547498         418.552321   \n",
       "\n",
       "   silt_60-100cm_mean  silt_100-200cm_mean  soc_0-5cm_mean  soc_5-15cm_mean  \\\n",
       "0          669.271912           677.688702     2114.798192      1359.857235   \n",
       "1          433.973202           391.566854     2915.137860      2142.926030   \n",
       "2          353.153423           328.230767     2574.497342      1619.058397   \n",
       "3          369.947119           331.084748     2762.913914      1907.273818   \n",
       "4          361.440402           324.088248     2648.198053      1944.254302   \n",
       "\n",
       "   soc_15-30cm_mean  soc_30-60cm_mean  soc_60-100cm_mean  soc_100-200cm_mean  \n",
       "0        583.380553        289.045205         260.226394          257.604548  \n",
       "1       1302.106539        963.524519         639.078428          618.847006  \n",
       "2        830.545633        566.860911         502.936610          519.919014  \n",
       "3       1200.982772        671.229759         607.671574          602.170030  \n",
       "4       1270.870353        879.338660         783.145375          780.942497  \n",
       "\n",
       "[5 rows x 69 columns]"
      ]
     },
     "execution_count": 134,
     "metadata": {},
     "output_type": "execute_result"
    }
   ],
   "source": [
    "footprints_sibbork_gdf_soils = pd.concat([gdf, df], axis=1)\n",
    "footprints_sibbork_gdf_soils.to_file(os.path.splitext(input_zones_fn)[0] + f'_zonal_stats_{STATS_TYPE}_{SCALE}' + '.gpkg')\n",
    "footprints_sibbork_gdf_soils.to_csv(os.path.splitext(input_zones_fn)[0] + f'_zonal_stats_{STATS_TYPE}_{SCALE}' + '.csv')\n",
    "footprints_sibbork_gdf_soils.head()"
   ]
  }
 ],
 "metadata": {
  "kernelspec": {
   "display_name": "Python 3 (ipykernel)",
   "language": "python",
   "name": "python3"
  },
  "language_info": {
   "codemirror_mode": {
    "name": "ipython",
    "version": 3
   },
   "file_extension": ".py",
   "mimetype": "text/x-python",
   "name": "python",
   "nbconvert_exporter": "python",
   "pygments_lexer": "ipython3",
   "version": "3.10.8"
  }
 },
 "nbformat": 4,
 "nbformat_minor": 5
}
